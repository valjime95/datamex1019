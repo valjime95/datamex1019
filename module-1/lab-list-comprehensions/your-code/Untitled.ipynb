{
 "cells": [
  {
   "cell_type": "code",
   "execution_count": null,
   "metadata": {
    "collapsed": true
   },
   "outputs": [],
   "source": [
    "# **dic son varios diccionarios\n",
    "def combine(**dic):\n",
    "    comb = {}\n",
    "    for i in dic:  # para cada uno de los diccionarios \n",
    "        for k,v in i.items:\n",
    "            k[] = \n",
    "            \n",
    "    "
   ]
  },
  {
   "cell_type": "code",
   "execution_count": null,
   "metadata": {
    "collapsed": true
   },
   "outputs": [],
   "source": [
    "const objA = { a: 10, b: 20, c: 30 }\n",
    "\n",
    "const objB = { a: 3, c: 6, d: 3 }\n",
    "\n",
    "{ a: 13, b: 20, c: 36, d: 3 }"
   ]
  }
 ],
 "metadata": {
  "kernelspec": {
   "display_name": "Python 3",
   "language": "python",
   "name": "python3"
  },
  "language_info": {
   "codemirror_mode": {
    "name": "ipython",
    "version": 3
   },
   "file_extension": ".py",
   "mimetype": "text/x-python",
   "name": "python",
   "nbconvert_exporter": "python",
   "pygments_lexer": "ipython3",
   "version": "3.6.0"
  }
 },
 "nbformat": 4,
 "nbformat_minor": 2
}
