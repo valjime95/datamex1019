{
 "cells": [
  {
   "cell_type": "code",
   "execution_count": null,
   "metadata": {
    "collapsed": false
   },
   "outputs": [],
   "source": [
    "!pip3 install selenium"
   ]
  },
  {
   "cell_type": "code",
   "execution_count": 1,
   "metadata": {
    "collapsed": false
   },
   "outputs": [],
   "source": [
    "from selenium import webdriver"
   ]
  },
  {
   "cell_type": "code",
   "execution_count": 35,
   "metadata": {
    "collapsed": true
   },
   "outputs": [],
   "source": [
    "navegador = webdriver.Chrome()"
   ]
  },
  {
   "cell_type": "code",
   "execution_count": 36,
   "metadata": {
    "collapsed": false
   },
   "outputs": [],
   "source": [
    "navegador.get('https://www.overbuff.com/')"
   ]
  },
  {
   "cell_type": "code",
   "execution_count": 37,
   "metadata": {
    "collapsed": true
   },
   "outputs": [],
   "source": [
    "barra = navegador.find_element_by_xpath('/html/body/div[1]/div[1]/div[1]/div/div[2]/a').click()"
   ]
  },
  {
   "cell_type": "code",
   "execution_count": 38,
   "metadata": {
    "collapsed": false
   },
   "outputs": [
    {
     "data": {
      "text/plain": [
       "<selenium.webdriver.remote.webelement.WebElement (session=\"15fce0be8262f6ce01cef9bb085ccdf8\", element=\"2f6da8d2-e029-441b-8707-c5f3464dfc75\")>"
      ]
     },
     "execution_count": 38,
     "metadata": {},
     "output_type": "execute_result"
    }
   ],
   "source": [
    "tabla = navegador.find_element_by_tag_name('table')\n",
    "tabla"
   ]
  },
  {
   "cell_type": "code",
   "execution_count": 39,
   "metadata": {
    "collapsed": true
   },
   "outputs": [],
   "source": [
    "tabla_encabezado = tabla.find_element_by_tag_name('thead')"
   ]
  },
  {
   "cell_type": "code",
   "execution_count": 40,
   "metadata": {
    "collapsed": false
   },
   "outputs": [
    {
     "data": {
      "text/plain": [
       "<selenium.webdriver.remote.webelement.WebElement (session=\"15fce0be8262f6ce01cef9bb085ccdf8\", element=\"fd3a319e-6072-4d02-b55f-5fbae67d551e\")>"
      ]
     },
     "execution_count": 40,
     "metadata": {},
     "output_type": "execute_result"
    }
   ],
   "source": [
    "tbody = navegador.find_element_by_tag_name('tbody')\n",
    "tbody"
   ]
  },
  {
   "cell_type": "code",
   "execution_count": 27,
   "metadata": {
    "collapsed": false
   },
   "outputs": [
    {
     "data": {
      "text/plain": [
       "[<selenium.webdriver.remote.webelement.WebElement (session=\"cb384cdc3d2b4f41a91671a59b6e0bae\", element=\"572679c5-f40f-462b-bc85-00afb12a4abd\")>,\n",
       " <selenium.webdriver.remote.webelement.WebElement (session=\"cb384cdc3d2b4f41a91671a59b6e0bae\", element=\"a42b9f32-5199-4264-8d9d-c7d61a2d3255\")>,\n",
       " <selenium.webdriver.remote.webelement.WebElement (session=\"cb384cdc3d2b4f41a91671a59b6e0bae\", element=\"c373905a-1c8c-4d85-81ee-d27b95d41f9e\")>,\n",
       " <selenium.webdriver.remote.webelement.WebElement (session=\"cb384cdc3d2b4f41a91671a59b6e0bae\", element=\"7b6dabfe-5c63-4294-8dfd-ffd8f903e1fb\")>,\n",
       " <selenium.webdriver.remote.webelement.WebElement (session=\"cb384cdc3d2b4f41a91671a59b6e0bae\", element=\"98010f2a-67b1-4ab9-a569-2f1ed6c1293d\")>,\n",
       " <selenium.webdriver.remote.webelement.WebElement (session=\"cb384cdc3d2b4f41a91671a59b6e0bae\", element=\"dbd8cd4d-fbf7-44c8-8f76-6eb2bfa07ddd\")>,\n",
       " <selenium.webdriver.remote.webelement.WebElement (session=\"cb384cdc3d2b4f41a91671a59b6e0bae\", element=\"8c037a3e-13c7-4a40-8fea-6072200650cb\")>,\n",
       " <selenium.webdriver.remote.webelement.WebElement (session=\"cb384cdc3d2b4f41a91671a59b6e0bae\", element=\"761c6200-e6b7-44f4-b06a-4159e677ee4c\")>,\n",
       " <selenium.webdriver.remote.webelement.WebElement (session=\"cb384cdc3d2b4f41a91671a59b6e0bae\", element=\"2a6a1654-cd88-408e-be29-187c51f85d67\")>,\n",
       " <selenium.webdriver.remote.webelement.WebElement (session=\"cb384cdc3d2b4f41a91671a59b6e0bae\", element=\"111bf225-c9bc-4550-a303-0deb87f7cbc4\")>,\n",
       " <selenium.webdriver.remote.webelement.WebElement (session=\"cb384cdc3d2b4f41a91671a59b6e0bae\", element=\"7cbf05dc-848d-494b-b15e-45172038543b\")>,\n",
       " <selenium.webdriver.remote.webelement.WebElement (session=\"cb384cdc3d2b4f41a91671a59b6e0bae\", element=\"1de2f62f-9a19-49a9-855f-6dad3aed0e11\")>,\n",
       " <selenium.webdriver.remote.webelement.WebElement (session=\"cb384cdc3d2b4f41a91671a59b6e0bae\", element=\"a2dbce19-d3ef-45b3-8e8f-6c55b5c3c3ed\")>,\n",
       " <selenium.webdriver.remote.webelement.WebElement (session=\"cb384cdc3d2b4f41a91671a59b6e0bae\", element=\"47438877-5e32-487b-b596-e672bf1cc718\")>,\n",
       " <selenium.webdriver.remote.webelement.WebElement (session=\"cb384cdc3d2b4f41a91671a59b6e0bae\", element=\"9d1342ba-089f-4ba8-a4b8-0af17244ca51\")>,\n",
       " <selenium.webdriver.remote.webelement.WebElement (session=\"cb384cdc3d2b4f41a91671a59b6e0bae\", element=\"3add0d84-4997-44ab-b2e3-757b93353835\")>,\n",
       " <selenium.webdriver.remote.webelement.WebElement (session=\"cb384cdc3d2b4f41a91671a59b6e0bae\", element=\"ff315c43-fbe5-4c73-b179-aa8394b553d7\")>,\n",
       " <selenium.webdriver.remote.webelement.WebElement (session=\"cb384cdc3d2b4f41a91671a59b6e0bae\", element=\"1a7c7a8f-fd63-4e83-a830-4019b20a3bd8\")>,\n",
       " <selenium.webdriver.remote.webelement.WebElement (session=\"cb384cdc3d2b4f41a91671a59b6e0bae\", element=\"dfcf6517-7a3a-4c77-8c39-b8f979b88d6f\")>,\n",
       " <selenium.webdriver.remote.webelement.WebElement (session=\"cb384cdc3d2b4f41a91671a59b6e0bae\", element=\"1e501fd8-fee8-4860-8ce8-d59aa2aaa9e2\")>,\n",
       " <selenium.webdriver.remote.webelement.WebElement (session=\"cb384cdc3d2b4f41a91671a59b6e0bae\", element=\"01c52f75-8777-4725-81ca-5489893d3e54\")>,\n",
       " <selenium.webdriver.remote.webelement.WebElement (session=\"cb384cdc3d2b4f41a91671a59b6e0bae\", element=\"46fdbc5e-7612-4728-9296-6fcc94e686f0\")>,\n",
       " <selenium.webdriver.remote.webelement.WebElement (session=\"cb384cdc3d2b4f41a91671a59b6e0bae\", element=\"fa0bb275-1990-4d7d-88fd-78f0ca48e10e\")>,\n",
       " <selenium.webdriver.remote.webelement.WebElement (session=\"cb384cdc3d2b4f41a91671a59b6e0bae\", element=\"3a4c7af6-9c7f-4db9-b254-2b9f1802166a\")>,\n",
       " <selenium.webdriver.remote.webelement.WebElement (session=\"cb384cdc3d2b4f41a91671a59b6e0bae\", element=\"a73fff4d-991d-493a-b31b-99200537444d\")>,\n",
       " <selenium.webdriver.remote.webelement.WebElement (session=\"cb384cdc3d2b4f41a91671a59b6e0bae\", element=\"b0bc0193-da4a-437e-b2cb-306b1287490d\")>,\n",
       " <selenium.webdriver.remote.webelement.WebElement (session=\"cb384cdc3d2b4f41a91671a59b6e0bae\", element=\"a731bffe-a2ec-4951-a074-adfbb164a208\")>,\n",
       " <selenium.webdriver.remote.webelement.WebElement (session=\"cb384cdc3d2b4f41a91671a59b6e0bae\", element=\"a2b957c8-fffd-4de9-a9c0-7e3f4e661864\")>,\n",
       " <selenium.webdriver.remote.webelement.WebElement (session=\"cb384cdc3d2b4f41a91671a59b6e0bae\", element=\"26b816d5-ab67-4938-8954-5772fd44568b\")>,\n",
       " <selenium.webdriver.remote.webelement.WebElement (session=\"cb384cdc3d2b4f41a91671a59b6e0bae\", element=\"86628553-dc19-42dc-b23f-f8c22c202e40\")>,\n",
       " <selenium.webdriver.remote.webelement.WebElement (session=\"cb384cdc3d2b4f41a91671a59b6e0bae\", element=\"9410c406-5f30-4c80-9635-0ec9c6b04082\")>,\n",
       " <selenium.webdriver.remote.webelement.WebElement (session=\"cb384cdc3d2b4f41a91671a59b6e0bae\", element=\"fbc31833-97e4-413f-b1a7-7c68ff61f9ae\")>]"
      ]
     },
     "execution_count": 27,
     "metadata": {},
     "output_type": "execute_result"
    }
   ],
   "source": [
    "tr_tbody = navegador.find_elements_by_tag_name('tr')"
   ]
  },
  {
   "cell_type": "code",
   "execution_count": 41,
   "metadata": {
    "collapsed": false
   },
   "outputs": [
    {
     "ename": "NoSuchWindowException",
     "evalue": "Message: no such window: window was already closed\n  (Session info: chrome=78.0.3904.87)\n",
     "output_type": "error",
     "traceback": [
      "\u001b[0;31m---------------------------------------------------------------------------\u001b[0m",
      "\u001b[0;31mNoSuchWindowException\u001b[0m                     Traceback (most recent call last)",
      "\u001b[0;32m<ipython-input-41-fa577cc191e1>\u001b[0m in \u001b[0;36m<module>\u001b[0;34m()\u001b[0m\n\u001b[0;32m----> 1\u001b[0;31m \u001b[0mtr\u001b[0m \u001b[0;34m=\u001b[0m \u001b[0;34m[\u001b[0m\u001b[0mi\u001b[0m\u001b[0;34m.\u001b[0m\u001b[0mtext\u001b[0m \u001b[0;32mfor\u001b[0m \u001b[0mi\u001b[0m \u001b[0;32min\u001b[0m \u001b[0mtr_tbody\u001b[0m\u001b[0;34m]\u001b[0m\u001b[0;34m\u001b[0m\u001b[0m\n\u001b[0m\u001b[1;32m      2\u001b[0m \u001b[0mtr_complet\u001b[0m \u001b[0;34m=\u001b[0m \u001b[0mtr\u001b[0m\u001b[0;34m[\u001b[0m\u001b[0;36m1\u001b[0m\u001b[0;34m:\u001b[0m\u001b[0;34m]\u001b[0m\u001b[0;34m\u001b[0m\u001b[0m\n",
      "\u001b[0;32m<ipython-input-41-fa577cc191e1>\u001b[0m in \u001b[0;36m<listcomp>\u001b[0;34m(.0)\u001b[0m\n\u001b[0;32m----> 1\u001b[0;31m \u001b[0mtr\u001b[0m \u001b[0;34m=\u001b[0m \u001b[0;34m[\u001b[0m\u001b[0mi\u001b[0m\u001b[0;34m.\u001b[0m\u001b[0mtext\u001b[0m \u001b[0;32mfor\u001b[0m \u001b[0mi\u001b[0m \u001b[0;32min\u001b[0m \u001b[0mtr_tbody\u001b[0m\u001b[0;34m]\u001b[0m\u001b[0;34m\u001b[0m\u001b[0m\n\u001b[0m\u001b[1;32m      2\u001b[0m \u001b[0mtr_complet\u001b[0m \u001b[0;34m=\u001b[0m \u001b[0mtr\u001b[0m\u001b[0;34m[\u001b[0m\u001b[0;36m1\u001b[0m\u001b[0;34m:\u001b[0m\u001b[0;34m]\u001b[0m\u001b[0;34m\u001b[0m\u001b[0m\n",
      "\u001b[0;32m/Users/valeriajimeno/anaconda/lib/python3.6/site-packages/selenium/webdriver/remote/webelement.py\u001b[0m in \u001b[0;36mtext\u001b[0;34m(self)\u001b[0m\n\u001b[1;32m     74\u001b[0m     \u001b[0;32mdef\u001b[0m \u001b[0mtext\u001b[0m\u001b[0;34m(\u001b[0m\u001b[0mself\u001b[0m\u001b[0;34m)\u001b[0m\u001b[0;34m:\u001b[0m\u001b[0;34m\u001b[0m\u001b[0m\n\u001b[1;32m     75\u001b[0m         \u001b[0;34m\"\"\"The text of the element.\"\"\"\u001b[0m\u001b[0;34m\u001b[0m\u001b[0m\n\u001b[0;32m---> 76\u001b[0;31m         \u001b[0;32mreturn\u001b[0m \u001b[0mself\u001b[0m\u001b[0;34m.\u001b[0m\u001b[0m_execute\u001b[0m\u001b[0;34m(\u001b[0m\u001b[0mCommand\u001b[0m\u001b[0;34m.\u001b[0m\u001b[0mGET_ELEMENT_TEXT\u001b[0m\u001b[0;34m)\u001b[0m\u001b[0;34m[\u001b[0m\u001b[0;34m'value'\u001b[0m\u001b[0;34m]\u001b[0m\u001b[0;34m\u001b[0m\u001b[0m\n\u001b[0m\u001b[1;32m     77\u001b[0m \u001b[0;34m\u001b[0m\u001b[0m\n\u001b[1;32m     78\u001b[0m     \u001b[0;32mdef\u001b[0m \u001b[0mclick\u001b[0m\u001b[0;34m(\u001b[0m\u001b[0mself\u001b[0m\u001b[0;34m)\u001b[0m\u001b[0;34m:\u001b[0m\u001b[0;34m\u001b[0m\u001b[0m\n",
      "\u001b[0;32m/Users/valeriajimeno/anaconda/lib/python3.6/site-packages/selenium/webdriver/remote/webelement.py\u001b[0m in \u001b[0;36m_execute\u001b[0;34m(self, command, params)\u001b[0m\n\u001b[1;32m    631\u001b[0m             \u001b[0mparams\u001b[0m \u001b[0;34m=\u001b[0m \u001b[0;34m{\u001b[0m\u001b[0;34m}\u001b[0m\u001b[0;34m\u001b[0m\u001b[0m\n\u001b[1;32m    632\u001b[0m         \u001b[0mparams\u001b[0m\u001b[0;34m[\u001b[0m\u001b[0;34m'id'\u001b[0m\u001b[0;34m]\u001b[0m \u001b[0;34m=\u001b[0m \u001b[0mself\u001b[0m\u001b[0;34m.\u001b[0m\u001b[0m_id\u001b[0m\u001b[0;34m\u001b[0m\u001b[0m\n\u001b[0;32m--> 633\u001b[0;31m         \u001b[0;32mreturn\u001b[0m \u001b[0mself\u001b[0m\u001b[0;34m.\u001b[0m\u001b[0m_parent\u001b[0m\u001b[0;34m.\u001b[0m\u001b[0mexecute\u001b[0m\u001b[0;34m(\u001b[0m\u001b[0mcommand\u001b[0m\u001b[0;34m,\u001b[0m \u001b[0mparams\u001b[0m\u001b[0;34m)\u001b[0m\u001b[0;34m\u001b[0m\u001b[0m\n\u001b[0m\u001b[1;32m    634\u001b[0m \u001b[0;34m\u001b[0m\u001b[0m\n\u001b[1;32m    635\u001b[0m     \u001b[0;32mdef\u001b[0m \u001b[0mfind_element\u001b[0m\u001b[0;34m(\u001b[0m\u001b[0mself\u001b[0m\u001b[0;34m,\u001b[0m \u001b[0mby\u001b[0m\u001b[0;34m=\u001b[0m\u001b[0mBy\u001b[0m\u001b[0;34m.\u001b[0m\u001b[0mID\u001b[0m\u001b[0;34m,\u001b[0m \u001b[0mvalue\u001b[0m\u001b[0;34m=\u001b[0m\u001b[0;32mNone\u001b[0m\u001b[0;34m)\u001b[0m\u001b[0;34m:\u001b[0m\u001b[0;34m\u001b[0m\u001b[0m\n",
      "\u001b[0;32m/Users/valeriajimeno/anaconda/lib/python3.6/site-packages/selenium/webdriver/remote/webdriver.py\u001b[0m in \u001b[0;36mexecute\u001b[0;34m(self, driver_command, params)\u001b[0m\n\u001b[1;32m    319\u001b[0m         \u001b[0mresponse\u001b[0m \u001b[0;34m=\u001b[0m \u001b[0mself\u001b[0m\u001b[0;34m.\u001b[0m\u001b[0mcommand_executor\u001b[0m\u001b[0;34m.\u001b[0m\u001b[0mexecute\u001b[0m\u001b[0;34m(\u001b[0m\u001b[0mdriver_command\u001b[0m\u001b[0;34m,\u001b[0m \u001b[0mparams\u001b[0m\u001b[0;34m)\u001b[0m\u001b[0;34m\u001b[0m\u001b[0m\n\u001b[1;32m    320\u001b[0m         \u001b[0;32mif\u001b[0m \u001b[0mresponse\u001b[0m\u001b[0;34m:\u001b[0m\u001b[0;34m\u001b[0m\u001b[0m\n\u001b[0;32m--> 321\u001b[0;31m             \u001b[0mself\u001b[0m\u001b[0;34m.\u001b[0m\u001b[0merror_handler\u001b[0m\u001b[0;34m.\u001b[0m\u001b[0mcheck_response\u001b[0m\u001b[0;34m(\u001b[0m\u001b[0mresponse\u001b[0m\u001b[0;34m)\u001b[0m\u001b[0;34m\u001b[0m\u001b[0m\n\u001b[0m\u001b[1;32m    322\u001b[0m             response['value'] = self._unwrap_value(\n\u001b[1;32m    323\u001b[0m                 response.get('value', None))\n",
      "\u001b[0;32m/Users/valeriajimeno/anaconda/lib/python3.6/site-packages/selenium/webdriver/remote/errorhandler.py\u001b[0m in \u001b[0;36mcheck_response\u001b[0;34m(self, response)\u001b[0m\n\u001b[1;32m    240\u001b[0m                 \u001b[0malert_text\u001b[0m \u001b[0;34m=\u001b[0m \u001b[0mvalue\u001b[0m\u001b[0;34m[\u001b[0m\u001b[0;34m'alert'\u001b[0m\u001b[0;34m]\u001b[0m\u001b[0;34m.\u001b[0m\u001b[0mget\u001b[0m\u001b[0;34m(\u001b[0m\u001b[0;34m'text'\u001b[0m\u001b[0;34m)\u001b[0m\u001b[0;34m\u001b[0m\u001b[0m\n\u001b[1;32m    241\u001b[0m             \u001b[0;32mraise\u001b[0m \u001b[0mexception_class\u001b[0m\u001b[0;34m(\u001b[0m\u001b[0mmessage\u001b[0m\u001b[0;34m,\u001b[0m \u001b[0mscreen\u001b[0m\u001b[0;34m,\u001b[0m \u001b[0mstacktrace\u001b[0m\u001b[0;34m,\u001b[0m \u001b[0malert_text\u001b[0m\u001b[0;34m)\u001b[0m\u001b[0;34m\u001b[0m\u001b[0m\n\u001b[0;32m--> 242\u001b[0;31m         \u001b[0;32mraise\u001b[0m \u001b[0mexception_class\u001b[0m\u001b[0;34m(\u001b[0m\u001b[0mmessage\u001b[0m\u001b[0;34m,\u001b[0m \u001b[0mscreen\u001b[0m\u001b[0;34m,\u001b[0m \u001b[0mstacktrace\u001b[0m\u001b[0;34m)\u001b[0m\u001b[0;34m\u001b[0m\u001b[0m\n\u001b[0m\u001b[1;32m    243\u001b[0m \u001b[0;34m\u001b[0m\u001b[0m\n\u001b[1;32m    244\u001b[0m     \u001b[0;32mdef\u001b[0m \u001b[0m_value_or_default\u001b[0m\u001b[0;34m(\u001b[0m\u001b[0mself\u001b[0m\u001b[0;34m,\u001b[0m \u001b[0mobj\u001b[0m\u001b[0;34m,\u001b[0m \u001b[0mkey\u001b[0m\u001b[0;34m,\u001b[0m \u001b[0mdefault\u001b[0m\u001b[0;34m)\u001b[0m\u001b[0;34m:\u001b[0m\u001b[0;34m\u001b[0m\u001b[0m\n",
      "\u001b[0;31mNoSuchWindowException\u001b[0m: Message: no such window: window was already closed\n  (Session info: chrome=78.0.3904.87)\n"
     ]
    }
   ],
   "source": [
    "tr = [i.text for i in tr_tbody]\n",
    "tr_complet = tr[1:]"
   ]
  },
  {
   "cell_type": "code",
   "execution_count": 21,
   "metadata": {
    "collapsed": false
   },
   "outputs": [
    {
     "data": {
      "text/plain": [
       "[['12.65%', '51.50%', '2.59%', '13.93%'],\n",
       " ['7.21%', '48.83%', '2.38%', '10.31%'],\n",
       " ['7.01%', '50.80%', '2.58%', '7.94%'],\n",
       " ['6.39%', '52.79%', '2.65%', '8.44%'],\n",
       " ['5.77%', '49.80%', '2.64%', '2.28%'],\n",
       " ['5.25%', '52.12%', '2.38%', '13.01%'],\n",
       " ['5.13%', '51.38%', '2.59%', '13.61%'],\n",
       " ['4.99%', '51.21%', '2.43%', '11.53%'],\n",
       " ['4.60%', '48.60%', '2.11%', '11.46%'],\n",
       " ['4.55%', '50.78%', '2.24%', '9.90%'],\n",
       " ['3.66%', '51.62%', '2.39%', '15.72%'],\n",
       " ['3.49%', '50.80%', '2.17%', '8.14%'],\n",
       " ['2.75%', '49.94%', '2.25%', '3.45%'],\n",
       " ['2.68%', '49.61%', '2.30%', '12.62%'],\n",
       " ['2.49%', '48.25%', '3.04%', '12.51%'],\n",
       " ['2.34%', '48.50%', '2.18%', '11.11%'],\n",
       " ['1.98%', '50.92%', '2.77%', '11.57%'],\n",
       " ['1.86%', '52.19%', '2.26%', '9.43%'],\n",
       " ['1.68%', '50.53%', '1.93%', '7.70%'],\n",
       " ['1.65%', '52.42%', '2.63%', '10.65%'],\n",
       " ['1.56%', '47.41%', '2.21%', '6.57%'],\n",
       " ['1.54%', '48.75%', '2.06%', '7.52%'],\n",
       " ['1.51%', '48.25%', '2.30%', '6.65%'],\n",
       " ['1.34%', '51.53%', '2.13%', '8.24%'],\n",
       " ['1.34%', '50.31%', '2.21%', '11.99%'],\n",
       " ['1.07%', '57.07%', '2.14%', '10.43%'],\n",
       " ['1.07%', '54.56%', '3.55%', '9.60%'],\n",
       " ['0.91%', '48.30%', '2.18%', '9.78%'],\n",
       " ['0.61%', '45.98%', '2.31%', '13.02%'],\n",
       " ['0.53%', '51.16%', '2.91%', '18.70%'],\n",
       " ['0.40%', '56.54%', '2.73%', '8.49%']]"
      ]
     },
     "execution_count": 21,
     "metadata": {},
     "output_type": "execute_result"
    }
   ],
   "source": [
    "tr_clean =[i.split('\\n') for i in tr_complet]\n",
    "tr_clean"
   ]
  },
  {
   "cell_type": "code",
   "execution_count": null,
   "metadata": {
    "collapsed": true
   },
   "outputs": [],
   "source": []
  }
 ],
 "metadata": {
  "kernelspec": {
   "display_name": "Python 3",
   "language": "python",
   "name": "python3"
  },
  "language_info": {
   "codemirror_mode": {
    "name": "ipython",
    "version": 3
   },
   "file_extension": ".py",
   "mimetype": "text/x-python",
   "name": "python",
   "nbconvert_exporter": "python",
   "pygments_lexer": "ipython3",
   "version": "3.6.0"
  }
 },
 "nbformat": 4,
 "nbformat_minor": 2
}
