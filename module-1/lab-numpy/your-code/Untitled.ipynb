{
 "cells": [
  {
   "cell_type": "code",
   "execution_count": 38,
   "metadata": {
    "collapsed": false
   },
   "outputs": [
    {
     "name": "stdout",
     "output_type": "stream",
     "text": [
      "1.11.3\n",
      "blas_mkl_info:\n",
      "    libraries = ['mkl_intel_lp64', 'mkl_intel_thread', 'mkl_core', 'iomp5', 'pthread']\n",
      "    library_dirs = ['/Users/valeriajimeno/anaconda/lib']\n",
      "    define_macros = [('SCIPY_MKL_H', None), ('HAVE_CBLAS', None)]\n",
      "    include_dirs = ['/Users/valeriajimeno/anaconda/include']\n",
      "blas_opt_info:\n",
      "    libraries = ['mkl_intel_lp64', 'mkl_intel_thread', 'mkl_core', 'iomp5', 'pthread']\n",
      "    library_dirs = ['/Users/valeriajimeno/anaconda/lib']\n",
      "    define_macros = [('SCIPY_MKL_H', None), ('HAVE_CBLAS', None)]\n",
      "    include_dirs = ['/Users/valeriajimeno/anaconda/include']\n",
      "openblas_lapack_info:\n",
      "  NOT AVAILABLE\n",
      "lapack_mkl_info:\n",
      "    libraries = ['mkl_intel_lp64', 'mkl_intel_thread', 'mkl_core', 'iomp5', 'pthread']\n",
      "    library_dirs = ['/Users/valeriajimeno/anaconda/lib']\n",
      "    define_macros = [('SCIPY_MKL_H', None), ('HAVE_CBLAS', None)]\n",
      "    include_dirs = ['/Users/valeriajimeno/anaconda/include']\n",
      "lapack_opt_info:\n",
      "    libraries = ['mkl_intel_lp64', 'mkl_intel_thread', 'mkl_core', 'iomp5', 'pthread']\n",
      "    library_dirs = ['/Users/valeriajimeno/anaconda/lib']\n",
      "    define_macros = [('SCIPY_MKL_H', None), ('HAVE_CBLAS', None)]\n",
      "    include_dirs = ['/Users/valeriajimeno/anaconda/include']\n",
      "None\n",
      "[[[ 0.37363181  0.07603938  0.78243451  0.91582699  0.73649989]\n",
      "  [ 0.2698643   0.99696825  0.79637558  0.9650798   0.02506706]\n",
      "  [ 0.77677848  0.31845787  0.63423664  0.04427732  0.82907228]]\n",
      "\n",
      " [[ 0.11926406  0.73971298  0.78919081  0.27348458  0.53507095]\n",
      "  [ 0.81314077  0.26291538  0.17034271  0.45742764  0.64184092]\n",
      "  [ 0.1116463   0.79065458  0.86771365  0.24750308  0.8103296 ]]]\n",
      "[[[ 1.  1.  1.]\n",
      "  [ 1.  1.  1.]]\n",
      "\n",
      " [[ 1.  1.  1.]\n",
      "  [ 1.  1.  1.]]\n",
      "\n",
      " [[ 1.  1.  1.]\n",
      "  [ 1.  1.  1.]]\n",
      "\n",
      " [[ 1.  1.  1.]\n",
      "  [ 1.  1.  1.]]\n",
      "\n",
      " [[ 1.  1.  1.]\n",
      "  [ 1.  1.  1.]]]\n",
      "[[[ 0.37363181  0.07603938  0.78243451  0.91582699  0.73649989]\n",
      "  [ 0.2698643   0.99696825  0.79637558  0.9650798   0.02506706]\n",
      "  [ 0.77677848  0.31845787  0.63423664  0.04427732  0.82907228]]\n",
      "\n",
      " [[ 0.11926406  0.73971298  0.78919081  0.27348458  0.53507095]\n",
      "  [ 0.81314077  0.26291538  0.17034271  0.45742764  0.64184092]\n",
      "  [ 0.1116463   0.79065458  0.86771365  0.24750308  0.8103296 ]]]\n",
      "[[[ 0.37363181  0.07603938  0.78243451  0.91582699  0.73649989]\n",
      "  [ 0.2698643   0.99696825  0.79637558  0.9650798   0.02506706]\n",
      "  [ 0.77677848  0.31845787  0.63423664  0.04427732  0.82907228]]\n",
      "\n",
      " [[ 0.11926406  0.73971298  0.78919081  0.27348458  0.53507095]\n",
      "  [ 0.81314077  0.26291538  0.17034271  0.45742764  0.64184092]\n",
      "  [ 0.1116463   0.79065458  0.86771365  0.24750308  0.8103296 ]]\n",
      "\n",
      " [[ 1.          1.          1.          1.          1.        ]\n",
      "  [ 1.          1.          1.          1.          1.        ]\n",
      "  [ 1.          1.          1.          1.          1.        ]]\n",
      "\n",
      " [[ 1.          1.          1.          1.          1.        ]\n",
      "  [ 1.          1.          1.          1.          1.        ]\n",
      "  [ 1.          1.          1.          1.          1.        ]]]\n",
      "[[[ 0.37363181  0.07603938  0.78243451  0.91582699  0.73649989]\n",
      "  [ 0.2698643   0.99696825  0.79637558  0.9650798   0.02506706]\n",
      "  [ 0.77677848  0.31845787  0.63423664  0.04427732  0.82907228]]\n",
      "\n",
      " [[ 0.11926406  0.73971298  0.78919081  0.27348458  0.53507095]\n",
      "  [ 0.81314077  0.26291538  0.17034271  0.45742764  0.64184092]\n",
      "  [ 0.1116463   0.79065458  0.86771365  0.24750308  0.8103296 ]]]\n"
     ]
    }
   ],
   "source": [
    "#1. Import the NUMPY package under the name np.\n",
    "import numpy as np\n",
    "\n",
    "#2. Print the NUMPY version and the configuration.\n",
    "print(np.__version__)\n",
    "print(np.show_config())\n",
    "\n",
    "#3. Generate a 2x3x5 3-dimensional array with random values. Assign the array to variable \"a\"\n",
    "\n",
    "a = np.random.random((2,3,5))\n",
    "# Challenge: there are at least three easy ways that use numpy to generate random arrays. How many ways can you find?\n",
    "\n",
    "\n",
    "\n",
    "#4. Print a.\n",
    "print(a)\n",
    "\n",
    "#5. Create a 5x2x3 3-dimensional array with all values equaling 1.\n",
    "#Assign the array to variable \"b\"\n",
    "\n",
    "b = np.ones((5,2,3))\n",
    "\n",
    "#6. Print b.\n",
    "print(b)\n",
    "\n",
    "\n",
    "#7. Do a and b have the same size? How do you prove that in Python code?\n",
    "a.size == b.size\n",
    "\n",
    "#8. Are you able to add a and b? Why or why not?\n",
    "\n",
    "\n",
    "# No por que a es un array de 2x3x5 mientras que b es uno de 5x2x3, si hacemos un append, lo que va a pasar es que nos regresara un array de 60.\n",
    "\n",
    "\n",
    "#9. Transpose b so that it has the same structure of a (i.e. become a 2x3x5 array). Assign the transposed array to variable \"c\".\n",
    "c=b.reshape(2,3,5)\n",
    "\n",
    "#10. Try to add a and c. Now it should work. Assign the sum to varialbe \"d\". But why does it work now?\n",
    "\n",
    "d = np.append(a,c, axis = 0)\n",
    "\n",
    "#Funciona por que tienen la misma estructura (capa, fila, columnas)\n",
    "\n",
    "#11. Print a and d. Notice the difference and relation of the two array in terms of the values? Explain.\n",
    "print(a)\n",
    "print(d)\n",
    "  #Lo que se puede ver es que se agregaron 2 arregalos de unos de 3x5\n",
    "\n",
    "\n",
    "#12. Multiply a and c. Assign the result to e.\n",
    "e = np.multiply(a,c)\n",
    "print(e)\n",
    "\n",
    "\n",
    "#13. Does e equal to a? Why or why not?\n",
    "\n",
    "#Si, por que lo único que se hizo fue multiplicar cada elemento por uno, ya que el método np.multiply() lo que hace es multiplicar entrada por entrada.\n",
    "\n",
    "\n",
    "#14. Identify the max, min, and mean values in d. Assign those values to variables \"d_max\", \"d_min\", and \"d_mean\"\n",
    "\n",
    "d_max= np.max(d)\n",
    "d_min= np.min(d)\n",
    "d_mean= np.mean(d)\n",
    "\n",
    "\n",
    "#15. Now we want to label the values in d. First create an empty array \"f\" with the same shape (i.e. 2x3x5) as d using `np.empty`.\n",
    "\n",
    "f = np.empty((2,3,5))"
   ]
  },
  {
   "cell_type": "code",
   "execution_count": 39,
   "metadata": {
    "collapsed": false
   },
   "outputs": [
    {
     "data": {
      "text/plain": [
       "array([[ 0.37363181,  0.07603938,  0.78243451,  0.91582699,  0.73649989,\n",
       "         0.2698643 ,  0.99696825,  0.79637558,  0.9650798 ,  0.02506706,\n",
       "         0.77677848,  0.31845787,  0.63423664,  0.04427732,  0.82907228,\n",
       "         0.11926406,  0.73971298,  0.78919081,  0.27348458,  0.53507095,\n",
       "         0.81314077,  0.26291538,  0.17034271,  0.45742764,  0.64184092,\n",
       "         0.1116463 ,  0.79065458,  0.86771365,  0.24750308,  0.8103296 ,\n",
       "         1.        ,  1.        ,  1.        ,  1.        ,  1.        ,\n",
       "         1.        ,  1.        ,  1.        ,  1.        ,  1.        ,\n",
       "         1.        ,  1.        ,  1.        ,  1.        ,  1.        ,\n",
       "         1.        ,  1.        ,  1.        ,  1.        ,  1.        ,\n",
       "         1.        ,  1.        ,  1.        ,  1.        ,  1.        ,\n",
       "         1.        ,  1.        ,  1.        ,  1.        ,  1.        ]])"
      ]
     },
     "execution_count": 39,
     "metadata": {},
     "output_type": "execute_result"
    }
   ],
   "source": [
    "prueba = np.reshape(d,(1,60))"
   ]
  },
  {
   "cell_type": "code",
   "execution_count": 33,
   "metadata": {
    "collapsed": false
   },
   "outputs": [
    {
     "name": "stdout",
     "output_type": "stream",
     "text": [
      "0.000603772087279 1.0 0.765943094732\n"
     ]
    }
   ],
   "source": [
    "d_min = np.min(d)\n",
    "d_max = np.max(d)\n",
    "d_mean = np.mean(d)"
   ]
  },
  {
   "cell_type": "code",
   "execution_count": 36,
   "metadata": {
    "collapsed": false
   },
   "outputs": [],
   "source": [
    "f = np.empty((1,len(prueba[0])))\n",
    "\n",
    "d_min = np.min(d)\n",
    "d_max = np.max(d)\n",
    "d_mean = np.mean(d)\n",
    "\n",
    "for i in range(len(prueba[0])):\n",
    "    if prueba[0][i] > d_mean and prueba[0][i]< d_max:\n",
    "        f[0][i] = 75\n",
    "    elif prueba[0][i] == d_mean:\n",
    "        f[0][i] = 50\n",
    "    elif prueba[0][i] == d_min:\n",
    "        f[0][i] = 0\n",
    "    elif prueba[0][i] == d_max:\n",
    "        f[0][i] = 100"
   ]
  },
  {
   "cell_type": "code",
   "execution_count": 37,
   "metadata": {
    "collapsed": false
   },
   "outputs": [
    {
     "data": {
      "text/plain": [
       "array([[   0.,   75.,   75.,   75.,    0.,   75.,   75.,    0.,    0.,\n",
       "           0.,    0.,   75.,   75.,    0.,    0.,    0.,    0.,    0.,\n",
       "           0.,    0.,    0.,    0.,   75.,    0.,   75.,    0.,    0.,\n",
       "           0.,    0.,    0.,  100.,  100.,  100.,  100.,  100.,  100.,\n",
       "         100.,  100.,  100.,  100.,  100.,  100.,  100.,  100.,  100.,\n",
       "         100.,  100.,  100.,  100.,  100.,  100.,  100.,  100.,  100.,\n",
       "         100.,  100.,  100.,  100.,  100.,  100.]])"
      ]
     },
     "execution_count": 37,
     "metadata": {},
     "output_type": "execute_result"
    }
   ],
   "source": [
    "f"
   ]
  },
  {
   "cell_type": "code",
   "execution_count": null,
   "metadata": {
    "collapsed": true
   },
   "outputs": [],
   "source": []
  }
 ],
 "metadata": {
  "kernelspec": {
   "display_name": "Python 3",
   "language": "python",
   "name": "python3"
  },
  "language_info": {
   "codemirror_mode": {
    "name": "ipython",
    "version": 3
   },
   "file_extension": ".py",
   "mimetype": "text/x-python",
   "name": "python",
   "nbconvert_exporter": "python",
   "pygments_lexer": "ipython3",
   "version": "3.6.0"
  }
 },
 "nbformat": 4,
 "nbformat_minor": 2
}
