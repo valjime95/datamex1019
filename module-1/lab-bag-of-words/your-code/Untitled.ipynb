{
 "cells": [
  {
   "cell_type": "code",
   "execution_count": null,
   "metadata": {
    "collapsed": true
   },
   "outputs": [],
   "source": [
    "#Lambda (anònimas)\n",
    "\n",
    "\n",
    "def suma(a,b):\n",
    "    return a+b\n"
   ]
  },
  {
   "cell_type": "code",
   "execution_count": 3,
   "metadata": {
    "collapsed": false
   },
   "outputs": [
    {
     "data": {
      "text/plain": [
       "[1, 4, 9, 16]"
      ]
     },
     "execution_count": 3,
     "metadata": {},
     "output_type": "execute_result"
    }
   ],
   "source": [
    "a = [1,2,3,4]\n",
    "q = [(lambda x: x**2) (i) for i in a]\n",
    "q"
   ]
  },
  {
   "cell_type": "code",
   "execution_count": 4,
   "metadata": {
    "collapsed": false
   },
   "outputs": [
    {
     "data": {
      "text/plain": [
       "[1, 4, 9, 16]"
      ]
     },
     "execution_count": 4,
     "metadata": {},
     "output_type": "execute_result"
    }
   ],
   "source": [
    "list(map(lambda x: x**2,a))"
   ]
  },
  {
   "cell_type": "code",
   "execution_count": 8,
   "metadata": {
    "collapsed": false
   },
   "outputs": [
    {
     "data": {
      "text/plain": [
       "[180, 30, 42, 15]"
      ]
     },
     "execution_count": 8,
     "metadata": {},
     "output_type": "execute_result"
    }
   ],
   "source": [
    "a = [1,2,3,5]\n",
    "b = [4,5,7,3]\n",
    "c = (45,3,2,1)\n",
    "list(map(lambda x,y,z: x*y*z , a,b,c))"
   ]
  },
  {
   "cell_type": "code",
   "execution_count": 9,
   "metadata": {
    "collapsed": false
   },
   "outputs": [
    {
     "data": {
      "text/plain": [
       "[2, 4, 6, 8]"
      ]
     },
     "execution_count": 9,
     "metadata": {},
     "output_type": "execute_result"
    }
   ],
   "source": [
    "num = [1,2,3,4,5,6,7,8,9]\n",
    "\n",
    "list(filter(lambda x: True if x%2 == 0 else False, num))"
   ]
  },
  {
   "cell_type": "code",
   "execution_count": null,
   "metadata": {
    "collapsed": true
   },
   "outputs": [],
   "source": [
    "#  reduce\n",
    "\n",
    "from functools import reduce\n",
    "\n",
    "a = [2,3,4,5,6,7,8]\n",
    "sum(a)"
   ]
  },
  {
   "cell_type": "code",
   "execution_count": 20,
   "metadata": {
    "collapsed": true
   },
   "outputs": [],
   "source": [
    "tablet = [['S', 'T', 'A', 'B'],\n",
    "          ['T', 'U', 'B', 'A'],\n",
    "          ['A', 'B', 'U', 'T'],\n",
    "          ['B', 'A', 'T', 'S']]\n"
   ]
  },
  {
   "cell_type": "code",
   "execution_count": 19,
   "metadata": {
    "collapsed": false
   },
   "outputs": [
    {
     "data": {
      "text/plain": [
       "['STAB', 'TUBA', 'ABUT', 'BATS']"
      ]
     },
     "execution_count": 19,
     "metadata": {},
     "output_type": "execute_result"
    }
   ],
   "source": [
    "p = []\n",
    "for i in tablet:\n",
    "    q = []\n",
    "    for j in i:\n",
    "        q.append(j)\n",
    "    p.append(q)\n",
    "    \n",
    "x = []\n",
    "for i in tablet:\n",
    "    x.append(''.join(i))\n",
    "x"
   ]
  },
  {
   "cell_type": "code",
   "execution_count": 16,
   "metadata": {
    "collapsed": false
   },
   "outputs": [
    {
     "data": {
      "text/plain": [
       "['STAB', 'TUBA', 'ABUT', 'BATS']"
      ]
     },
     "execution_count": 16,
     "metadata": {},
     "output_type": "execute_result"
    }
   ],
   "source": [
    "#juntamos los elementos de la listaen un string\n",
    "c = []\n",
    "for i in tablet:\n",
    "    c.append(''.join(i))\n",
    "c"
   ]
  },
  {
   "cell_type": "code",
   "execution_count": 23,
   "metadata": {
    "collapsed": false
   },
   "outputs": [
    {
     "name": "stdout",
     "output_type": "stream",
     "text": [
      "True\n",
      "['STAB', 'TUBA', 'ABUT', 'BATS']\n",
      "['STAB', 'TUBA', 'ABUT', 'BATS']\n",
      "[['S', 'T', 'A', 'B'], ['T', 'U', 'B', 'A'], ['A', 'B', 'U', 'T'], ['B', 'A', 'T', 'S']]\n"
     ]
    }
   ],
   "source": [
    "c = []\n",
    "for i in tablet:\n",
    "    c.append(''.join(i))\n",
    "    \n",
    "p = []\n",
    "for i in tablet:\n",
    "    q = []\n",
    "    for j in i:\n",
    "        q.append(j)\n",
    "    p.append(q)\n",
    "    \n",
    "x = []\n",
    "for i in tablet:\n",
    "    x.append(''.join(i))\n",
    "\n",
    "if c == x:\n",
    "    print('True')\n",
    "print (c)\n",
    "print (x)\n",
    "print (p)"
   ]
  },
  {
   "cell_type": "code",
   "execution_count": null,
   "metadata": {
    "collapsed": true
   },
   "outputs": [],
   "source": []
  }
 ],
 "metadata": {
  "kernelspec": {
   "display_name": "Python 3",
   "language": "python",
   "name": "python3"
  },
  "language_info": {
   "codemirror_mode": {
    "name": "ipython",
    "version": 3
   },
   "file_extension": ".py",
   "mimetype": "text/x-python",
   "name": "python",
   "nbconvert_exporter": "python",
   "pygments_lexer": "ipython3",
   "version": "3.6.0"
  }
 },
 "nbformat": 4,
 "nbformat_minor": 2
}
