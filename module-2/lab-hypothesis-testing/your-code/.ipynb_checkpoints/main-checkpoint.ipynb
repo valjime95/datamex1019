{
 "cells": [
  {
   "cell_type": "markdown",
   "metadata": {},
   "source": [
    "# Before your start:\n",
    "- Read the README.md file\n",
    "- Comment as much as you can and use the resources (README.md file)\n",
    "- Happy learning!"
   ]
  },
  {
   "cell_type": "code",
   "execution_count": 51,
   "metadata": {
    "collapsed": true
   },
   "outputs": [],
   "source": [
    "import numpy as np\n",
    "import pandas as pd\n",
    "from scipy.stats import ttest_1samp\n",
    "from scipy.stats import t\n",
    "from scipy import stats"
   ]
  },
  {
   "cell_type": "markdown",
   "metadata": {},
   "source": [
    "# Challenge 1 - Exploring the Data\n",
    "\n",
    "In this challenge, we will examine all salaries of employees of the City of Chicago. We will start by loading the dataset and examining its contents"
   ]
  },
  {
   "cell_type": "code",
   "execution_count": 2,
   "metadata": {
    "collapsed": true
   },
   "outputs": [],
   "source": [
    "# Run this code:\n",
    "\n",
    "salaries = pd.read_csv('../Current_Employee_Names__Salaries__and_Position_Titles.csv')"
   ]
  },
  {
   "cell_type": "markdown",
   "metadata": {},
   "source": [
    "Examine the `salaries` dataset using the `head` function below."
   ]
  },
  {
   "cell_type": "code",
   "execution_count": 24,
   "metadata": {
    "collapsed": false
   },
   "outputs": [
    {
     "data": {
      "text/html": [
       "<div>\n",
       "<table border=\"1\" class=\"dataframe\">\n",
       "  <thead>\n",
       "    <tr style=\"text-align: right;\">\n",
       "      <th></th>\n",
       "      <th>Name</th>\n",
       "      <th>Job Titles</th>\n",
       "      <th>Department</th>\n",
       "      <th>Full or Part-Time</th>\n",
       "      <th>Salary or Hourly</th>\n",
       "      <th>Typical Hours</th>\n",
       "      <th>Annual Salary</th>\n",
       "      <th>Hourly Rate</th>\n",
       "    </tr>\n",
       "  </thead>\n",
       "  <tbody>\n",
       "    <tr>\n",
       "      <th>0</th>\n",
       "      <td>AARON,  JEFFERY M</td>\n",
       "      <td>SERGEANT</td>\n",
       "      <td>POLICE</td>\n",
       "      <td>F</td>\n",
       "      <td>Salary</td>\n",
       "      <td>NaN</td>\n",
       "      <td>101442.0</td>\n",
       "      <td>NaN</td>\n",
       "    </tr>\n",
       "    <tr>\n",
       "      <th>1</th>\n",
       "      <td>AARON,  KARINA</td>\n",
       "      <td>POLICE OFFICER (ASSIGNED AS DETECTIVE)</td>\n",
       "      <td>POLICE</td>\n",
       "      <td>F</td>\n",
       "      <td>Salary</td>\n",
       "      <td>NaN</td>\n",
       "      <td>94122.0</td>\n",
       "      <td>NaN</td>\n",
       "    </tr>\n",
       "    <tr>\n",
       "      <th>2</th>\n",
       "      <td>AARON,  KIMBERLEI R</td>\n",
       "      <td>CHIEF CONTRACT EXPEDITER</td>\n",
       "      <td>GENERAL SERVICES</td>\n",
       "      <td>F</td>\n",
       "      <td>Salary</td>\n",
       "      <td>NaN</td>\n",
       "      <td>101592.0</td>\n",
       "      <td>NaN</td>\n",
       "    </tr>\n",
       "    <tr>\n",
       "      <th>3</th>\n",
       "      <td>ABAD JR,  VICENTE M</td>\n",
       "      <td>CIVIL ENGINEER IV</td>\n",
       "      <td>WATER MGMNT</td>\n",
       "      <td>F</td>\n",
       "      <td>Salary</td>\n",
       "      <td>NaN</td>\n",
       "      <td>110064.0</td>\n",
       "      <td>NaN</td>\n",
       "    </tr>\n",
       "    <tr>\n",
       "      <th>4</th>\n",
       "      <td>ABASCAL,  REECE E</td>\n",
       "      <td>TRAFFIC CONTROL AIDE-HOURLY</td>\n",
       "      <td>OEMC</td>\n",
       "      <td>P</td>\n",
       "      <td>Hourly</td>\n",
       "      <td>20.0</td>\n",
       "      <td>NaN</td>\n",
       "      <td>19.86</td>\n",
       "    </tr>\n",
       "  </tbody>\n",
       "</table>\n",
       "</div>"
      ],
      "text/plain": [
       "                  Name                              Job Titles  \\\n",
       "0    AARON,  JEFFERY M                                SERGEANT   \n",
       "1      AARON,  KARINA   POLICE OFFICER (ASSIGNED AS DETECTIVE)   \n",
       "2  AARON,  KIMBERLEI R                CHIEF CONTRACT EXPEDITER   \n",
       "3  ABAD JR,  VICENTE M                       CIVIL ENGINEER IV   \n",
       "4    ABASCAL,  REECE E             TRAFFIC CONTROL AIDE-HOURLY   \n",
       "\n",
       "         Department Full or Part-Time Salary or Hourly  Typical Hours  \\\n",
       "0            POLICE                 F           Salary            NaN   \n",
       "1            POLICE                 F           Salary            NaN   \n",
       "2  GENERAL SERVICES                 F           Salary            NaN   \n",
       "3       WATER MGMNT                 F           Salary            NaN   \n",
       "4              OEMC                 P           Hourly           20.0   \n",
       "\n",
       "   Annual Salary  Hourly Rate  \n",
       "0       101442.0          NaN  \n",
       "1        94122.0          NaN  \n",
       "2       101592.0          NaN  \n",
       "3       110064.0          NaN  \n",
       "4            NaN        19.86  "
      ]
     },
     "execution_count": 24,
     "metadata": {},
     "output_type": "execute_result"
    }
   ],
   "source": [
    "salaries.head()"
   ]
  },
  {
   "cell_type": "markdown",
   "metadata": {},
   "source": [
    "We see from looking at the `head` function that there is quite a bit of missing data. Let's examine how much missing data is in each column. Produce this output in the cell below"
   ]
  },
  {
   "cell_type": "code",
   "execution_count": 4,
   "metadata": {
    "collapsed": false
   },
   "outputs": [
    {
     "data": {
      "text/plain": [
       "Name                     0\n",
       "Job Titles               0\n",
       "Department               0\n",
       "Full or Part-Time        0\n",
       "Salary or Hourly         0\n",
       "Typical Hours        25161\n",
       "Annual Salary         8022\n",
       "Hourly Rate          25161\n",
       "dtype: int64"
      ]
     },
     "execution_count": 4,
     "metadata": {},
     "output_type": "execute_result"
    }
   ],
   "source": [
    "salaries.isnull().sum()"
   ]
  },
  {
   "cell_type": "markdown",
   "metadata": {},
   "source": [
    "Let's also look at the count of hourly vs. salaried employees. Write the code in the cell below"
   ]
  },
  {
   "cell_type": "code",
   "execution_count": 7,
   "metadata": {
    "collapsed": false
   },
   "outputs": [
    {
     "data": {
      "text/plain": [
       "Salary or Hourly\n",
       "Hourly     8022\n",
       "Salary    25161\n",
       "Name: Name, dtype: int64"
      ]
     },
     "execution_count": 7,
     "metadata": {},
     "output_type": "execute_result"
    }
   ],
   "source": [
    "salaries.groupby('Salary or Hourly').count()['Name']\n"
   ]
  },
  {
   "cell_type": "markdown",
   "metadata": {},
   "source": [
    "What this information indicates is that the table contains information about two types of employees - salaried and hourly. Some columns apply only to one type of employee while other columns only apply to another kind. This is why there are so many missing values. Therefore, we will not do anything to handle the missing values."
   ]
  },
  {
   "cell_type": "markdown",
   "metadata": {},
   "source": [
    "There are different departments in the city. List all departments and the count of employees in each department."
   ]
  },
  {
   "cell_type": "code",
   "execution_count": 11,
   "metadata": {
    "collapsed": false
   },
   "outputs": [
    {
     "data": {
      "text/plain": [
       "Department\n",
       "ADMIN HEARNG                39\n",
       "ANIMAL CONTRL               81\n",
       "AVIATION                  1629\n",
       "BOARD OF ELECTION          107\n",
       "BOARD OF ETHICS              8\n",
       "BUDGET & MGMT               46\n",
       "BUILDINGS                  269\n",
       "BUSINESS AFFAIRS           171\n",
       "CITY CLERK                  84\n",
       "CITY COUNCIL               411\n",
       "COMMUNITY DEVELOPMENT      207\n",
       "COPA                       116\n",
       "CULTURAL AFFAIRS            65\n",
       "DISABILITIES                28\n",
       "DoIT                        99\n",
       "FAMILY & SUPPORT           615\n",
       "FINANCE                    560\n",
       "FIRE                      4641\n",
       "GENERAL SERVICES           980\n",
       "HEALTH                     488\n",
       "HUMAN RELATIONS             16\n",
       "HUMAN RESOURCES             79\n",
       "INSPECTOR GEN               87\n",
       "LAW                        407\n",
       "LICENSE APPL COMM            1\n",
       "MAYOR'S OFFICE              85\n",
       "OEMC                      2102\n",
       "POLICE                   13414\n",
       "POLICE BOARD                 2\n",
       "PROCUREMENT                 92\n",
       "PUBLIC LIBRARY            1015\n",
       "STREETS & SAN             2198\n",
       "TRANSPORTN                1140\n",
       "TREASURER                   22\n",
       "WATER MGMNT               1879\n",
       "Name: Name, dtype: int64"
      ]
     },
     "execution_count": 11,
     "metadata": {},
     "output_type": "execute_result"
    }
   ],
   "source": [
    "salaries.groupby('Department').count()['Name']"
   ]
  },
  {
   "cell_type": "markdown",
   "metadata": {},
   "source": [
    "# Challenge 2 - Hypothesis Tests\n",
    "\n",
    "In this section of the lab, we will test whether the hourly wage of all hourly workers is significantly different from $30/hr. Import the correct one sample test function from scipy and perform the hypothesis test for a 95% two sided confidence interval."
   ]
  },
  {
   "cell_type": "markdown",
   "metadata": {},
   "source": [
    "Se quiere probar si el salario por hora de los asalariados(hourly) es diferente de $30 por hora.\n",
    "\n",
    "H0: mu == 30 , H1: mu != 530 , x_media=32.788558, s=12.112573, n=8022 ==> t-test (two-side) dof=8021\n",
    "\n",
    "Como es de dos colas, entonces NO se divide el p-value entre 2."
   ]
  },
  {
   "cell_type": "code",
   "execution_count": 22,
   "metadata": {
    "collapsed": false
   },
   "outputs": [
    {
     "name": "stdout",
     "output_type": "stream",
     "text": [
      "Salary or Hourly\n",
      "Hourly    12.112573\n",
      "Salary          NaN\n",
      "Name: Hourly Rate, dtype: float64\n",
      "Salary or Hourly\n",
      "Hourly    32.788558\n",
      "Salary          NaN\n",
      "Name: Hourly Rate, dtype: float64\n"
     ]
    }
   ],
   "source": [
    "print(salaries.groupby('Salary or Hourly').std(ddof = 1)['Hourly Rate'])  # con ddof = 1 le estamos diciendo que queremos la \n",
    "print(salaries.groupby('Salary or Hourly').mean()['Hourly Rate'])         # desviación estándar muestral, NUMPY \n",
    "                                                                          # va a dividir por N – ddof en su lugar"
   ]
  },
  {
   "cell_type": "code",
   "execution_count": 48,
   "metadata": {
    "collapsed": true
   },
   "outputs": [],
   "source": [
    "# Datos\n",
    "n = 8022\n",
    "mu = 30\n",
    "mu_hat=32.788558\n",
    "std_hat=12.112573\n"
   ]
  },
  {
   "cell_type": "code",
   "execution_count": 80,
   "metadata": {
    "collapsed": false
   },
   "outputs": [
    {
     "name": "stdout",
     "output_type": "stream",
     "text": [
      "20.619807346\n",
      "1.0\n"
     ]
    }
   ],
   "source": [
    "# Prueba forma 1   (AQUÍ EL P-VALUE SALE RARO)\n",
    "t_test=(mu_hat-mu)/(std_hat/np.sqrt(n))\n",
    "print(t_test)\n",
    "rv=t(df=n-1)\n",
    "p_value=rv.cdf(t_test)\n",
    "print(p_value)   # No existe evidencia suficiente para rechazar Ho."
   ]
  },
  {
   "cell_type": "code",
   "execution_count": 79,
   "metadata": {
    "collapsed": false
   },
   "outputs": [
    {
     "name": "stdout",
     "output_type": "stream",
     "text": [
      "19.1618158062\n",
      "4.656105532e-80\n"
     ]
    }
   ],
   "source": [
    "rvs = stats.norm.rvs(loc=32.788558, scale=12.112573, size=8022)\n",
    "test=ttest_1samp(rvs, 30)\n",
    "print (test.statistic)\n",
    "print (test.pvalue)  # Con un nivel de confianza del 95%, se puede decir que xiste evidencia suficiente para rechazar Ho."
   ]
  },
  {
   "cell_type": "code",
   "execution_count": 78,
   "metadata": {
    "collapsed": false
   },
   "outputs": [
    {
     "name": "stdout",
     "output_type": "stream",
     "text": [
      "19.7850486406\n",
      "4.18805044962e-85\n"
     ]
    }
   ],
   "source": [
    "pacientes=np.random.normal(loc =32.788558, scale = 12.112573, size = 8022)\n",
    "test=ttest_1samp(pacientes, 30)\n",
    "print (test.statistic)\n",
    "print (test.pvalue)  # Con un nivel de confianza del 95%, se puede decir que xiste evidencia suficiente para rechazar Ho.\n"
   ]
  },
  {
   "cell_type": "markdown",
   "metadata": {},
   "source": [
    "We are also curious about salaries in the police force. The chief of police in Chicago claimed in a press briefing that salaries this year are higher than last year's mean of $86000/year a year for all salaried employees. Test this one sided hypothesis using a 95% confidence interval.\n",
    "\n",
    "Hint: A one tailed test has a p-value that is half of the two tailed p-value. If our hypothesis is greater than, then to reject, the test statistic must also be positive."
   ]
  },
  {
   "cell_type": "markdown",
   "metadata": {},
   "source": [
    "Se quiere probar que los salarios no son mayores que la media del año pasado de $86,000 al año, para los empleados asalariados.\n",
    "\n",
    "Ho: promedio de los salarios > $86000\n",
    "vs.\n",
    "H1: promedio de los salarios <= $86000\n",
    "\n",
    "Tenemos un prueba de cola:\n",
    "Datos\n",
    "mean = 86786.99979 (Salary per year)\n",
    "devest = 21041.354602 (sampler)\n",
    "n = 25161\n",
    "alpha = 0.05"
   ]
  },
  {
   "cell_type": "code",
   "execution_count": 75,
   "metadata": {
    "collapsed": false
   },
   "outputs": [
    {
     "name": "stdout",
     "output_type": "stream",
     "text": [
      "Salary or Hourly\n",
      "Hourly            NaN\n",
      "Salary    86786.99979\n",
      "Name: Annual Salary, dtype: float64\n"
     ]
    }
   ],
   "source": [
    "#print(salaries.groupby('Salary or Hourly').std(ddof = 1)['Annual Salary']) \n",
    "print(salaries.groupby('Salary or Hourly').mean()['Annual Salary'])   "
   ]
  },
  {
   "cell_type": "code",
   "execution_count": 77,
   "metadata": {
    "collapsed": false
   },
   "outputs": [
    {
     "name": "stdout",
     "output_type": "stream",
     "text": [
      "5.52556053855\n",
      "1.65843797427e-08\n"
     ]
    }
   ],
   "source": [
    "# Prueba 1\n",
    "rvs = stats.norm.rvs(loc =86786.99979, scale = 21041.354602, size =25161 )\n",
    "test =ttest_1samp(rvs,86000)\n",
    "print (test.statistic)\n",
    "print (test.pvalue/2) \n",
    "\n",
    "# Como el p-value < alpha, entonces se puede decir que\n",
    "# con un nivel de confianza del 95%, existe evidencia suficiente para rechazar Ho."
   ]
  },
  {
   "cell_type": "markdown",
   "metadata": {},
   "source": [
    "Using the `crosstab` function, find the department that has the most hourly workers. "
   ]
  },
  {
   "cell_type": "code",
   "execution_count": 114,
   "metadata": {
    "collapsed": false
   },
   "outputs": [],
   "source": [
    "workers_most_hours = pd.crosstab(index = salaries.Department, columns = salaries['Typical Hours'])"
   ]
  },
  {
   "cell_type": "markdown",
   "metadata": {},
   "source": [
    "The workers from the department with the most hourly workers have complained that their hourly wage is less than $35/hour. Using a one sample t-test, test this one-sided hypothesis at the 95% confidence level."
   ]
  },
  {
   "cell_type": "markdown",
   "metadata": {},
   "source": [
    "El departamento los trabajadores que laboran el mayor número de horas es 'STREETS & SAN'.\n",
    "Lo que se quiere probar es lo siguiente:\n",
    "\n",
    "Ho: salario por hora < 35\n",
    "vs.\n",
    "H1: salario por hora >= 35\n",
    "Con un alpha de .05."
   ]
  },
  {
   "cell_type": "code",
   "execution_count": 116,
   "metadata": {
    "collapsed": false
   },
   "outputs": [
    {
     "name": "stdout",
     "output_type": "stream",
     "text": [
      "mean = 34.21459427207574\n",
      "std = 5.815886242913471\n",
      "n = 1676\n"
     ]
    }
   ],
   "source": [
    "# Your code here:\n",
    "df = salaries[(salaries['Department']== 'STREETS & SAN') & (salaries['Salary or Hourly']== 'Hourly') & (salaries['Typical Hours']== 40.0)]\n",
    "mean_salary = df['Hourly Rate'].mean()\n",
    "std_salary = df['Hourly Rate'].std(ddof = 1)\n",
    "print('mean = {}'.format(mean_salary))\n",
    "print('std = {}'.format(std_salary))\n",
    "print('n = {}'.format(len(df)))"
   ]
  },
  {
   "cell_type": "code",
   "execution_count": 113,
   "metadata": {
    "collapsed": false
   },
   "outputs": [
    {
     "name": "stdout",
     "output_type": "stream",
     "text": [
      "-7.82206668366\n",
      "4.56356898341e-15\n"
     ]
    }
   ],
   "source": [
    "# Prueba\n",
    "rvs = stats.norm.rvs(loc =34.21459427207574, scale = 5.815886242913471, size =1676 )\n",
    "test =ttest_1samp(rvs,35)\n",
    "print (test.statistic)\n",
    "print (test.pvalue/2) \n",
    "\n",
    "# Como el p-value < alpha, entonces se puede decir que\n",
    "# con un nivel de confianza del 95%, existe evidencia suficiente para rechazar Ho."
   ]
  },
  {
   "cell_type": "markdown",
   "metadata": {},
   "source": [
    "# Challenge 3 - Constructing Confidence Intervals\n",
    "\n",
    "While testing our hypothesis is a great way to gather empirical evidence for accepting or rejecting the hypothesis, another way to gather evidence is by creating a confidence interval. A confidence interval gives us information about the true mean of the population. So for a 95% confidence interval, we are 95% sure that the mean of the population is within the confidence interval. \n",
    ").\n",
    "\n",
    "To read more about confidence intervals, click [here](https://en.wikipedia.org/wiki/Confidence_interval).\n",
    "\n",
    "\n",
    "In the cell below, we will construct a 95% confidence interval for the mean hourly wage of all hourly workers. \n",
    "\n",
    "The confidence interval is computed in SciPy using the `t.interval` function. You can read more about this function [here](https://docs.scipy.org/doc/scipy-0.14.0/reference/generated/scipy.stats.t.html).\n",
    "\n",
    "To compute the confidence interval of the hourly wage, use the 0.95 for the confidence level, number of rows - 1 for degrees of freedom, the mean of the sample for the location parameter and the standard error for the scale. The standard error can be computed using [this](https://docs.scipy.org/doc/scipy/reference/generated/scipy.stats.sem.html) function in SciPy."
   ]
  },
  {
   "cell_type": "code",
   "execution_count": 148,
   "metadata": {
    "collapsed": false
   },
   "outputs": [
    {
     "name": "stdout",
     "output_type": "stream",
     "text": [
      "mean = 32.78855771628128\n",
      "n = 8022\n",
      "error_estándar = 0.1352368565101596\n"
     ]
    }
   ],
   "source": [
    "\n",
    "hourly_rate = salaries[salaries['Salary or Hourly'] == 'Hourly']['Hourly Rate'] \n",
    "mean_sal_hour = salaries[salaries['Salary or Hourly'] == 'Hourly'].mean()['Hourly Rate'] #media del salario\n",
    "n = len(hourly_rate) # número de personas \n",
    "standard_error = stats.sem(hourly_rate.values) # error estándar(array con los valores a los que se le quiere sacar el error estándar)\n",
    "\n",
    "print('mean = {}'.format(mean_sal_hour))\n",
    "print('n = {}'.format(n))\n",
    "print('error_estándar = {}'.format(standard_error))"
   ]
  },
  {
   "cell_type": "code",
   "execution_count": 151,
   "metadata": {
    "collapsed": false
   },
   "outputs": [
    {
     "data": {
      "text/plain": [
       "(32.780077183392301, 32.797038249170264)"
      ]
     },
     "execution_count": 151,
     "metadata": {},
     "output_type": "execute_result"
    }
   ],
   "source": [
    "# Intervalo de confianza del 95 %\n",
    "\n",
    "t.interval(alpha = .05, df =8021, loc=32.78855771628128, scale=0.1352368565101596)\n",
    "#(32.780077183392301, 32.797038249170264)"
   ]
  },
  {
   "cell_type": "markdown",
   "metadata": {},
   "source": [
    "Now construct the 95% confidence interval for all salaried employeed in the police in the cell below."
   ]
  },
  {
   "cell_type": "code",
   "execution_count": 159,
   "metadata": {
    "collapsed": false
   },
   "outputs": [
    {
     "name": "stdout",
     "output_type": "stream",
     "text": [
      "mean = 86486.41450313339\n",
      "n = 13404\n",
      "error_estándar = 157.82445675052244\n"
     ]
    }
   ],
   "source": [
    "# Your code here:\n",
    "data = salaries[(salaries['Salary or Hourly'] == 'Salary') & (salaries['Department']== 'POLICE')]['Annual Salary']\n",
    "mean = data.mean()\n",
    "standard_error = stats.sem(data.values)\n",
    "print('mean = {}'.format(data.mean()))\n",
    "print('n = {}'.format(len(data)))\n",
    "print('error_estándar = {}'.format(standard_error))"
   ]
  },
  {
   "cell_type": "code",
   "execution_count": 162,
   "metadata": {
    "collapsed": false
   },
   "outputs": [
    {
     "data": {
      "text/plain": [
       "(86476.517654644398, 86496.311351622382)"
      ]
     },
     "execution_count": 162,
     "metadata": {},
     "output_type": "execute_result"
    }
   ],
   "source": [
    "# Intervalo de confianza del 95 %\n",
    "\n",
    "t.interval(alpha = .05, df =(len(data)-1), loc=mean, scale=standard_error)"
   ]
  },
  {
   "cell_type": "markdown",
   "metadata": {},
   "source": [
    "# Challenge 4 - Hypothesis Tests of Proportions\n",
    "\n",
    "Another type of one sample test is a hypothesis test of proportions. In this test, we examine whether the proportion of a group in our sample is significantly different than a fraction. \n",
    "\n",
    "You can read more about one sample proportion tests [here](http://sphweb.bumc.bu.edu/otlt/MPH-Modules/BS/SAS/SAS6-CategoricalData/SAS6-CategoricalData2.html).\n",
    "\n",
    "In the cell below, use the `proportions_ztest` function from `statsmodels` to perform a hypothesis test that will determine whether the number of hourly workers in the City of Chicago is significantly different from 25% at the 95% confidence level."
   ]
  },
  {
   "cell_type": "markdown",
   "metadata": {},
   "source": [
    "Se quiere ver si la proporcion de personas que trabajan por hora en chicago es diferente del 25% con un nivel de 95%, i.e.\n",
    "Ho: prop = .25\n",
    "vs\n",
    "H1: prop != .25\n"
   ]
  },
  {
   "cell_type": "code",
   "execution_count": 167,
   "metadata": {
    "collapsed": true
   },
   "outputs": [],
   "source": [
    "from statsmodels.stats.proportion import proportions_ztest\n",
    "workers_hourly = salaries[salaries['Salary or Hourly']=='Hourly']\n",
    "stat, pval = proportions_ztest(count =len(workers_hourly), nobs = len(salaries), value =.25, alternative = 'two-sided')\n",
    "pval"
   ]
  }
 ],
 "metadata": {
  "kernelspec": {
   "display_name": "Python 3",
   "language": "python",
   "name": "python3"
  },
  "language_info": {
   "codemirror_mode": {
    "name": "ipython",
    "version": 3
   },
   "file_extension": ".py",
   "mimetype": "text/x-python",
   "name": "python",
   "nbconvert_exporter": "python",
   "pygments_lexer": "ipython3",
   "version": "3.6.0"
  }
 },
 "nbformat": 4,
 "nbformat_minor": 2
}
