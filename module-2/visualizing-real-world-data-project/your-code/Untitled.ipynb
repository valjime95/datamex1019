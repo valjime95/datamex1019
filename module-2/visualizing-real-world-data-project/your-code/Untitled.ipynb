{
 "cells": [
  {
   "cell_type": "code",
   "execution_count": 8,
   "metadata": {},
   "outputs": [],
   "source": [
    "#!pip3 install folium\n",
    "#!pip3 install googlemaps\n",
    "#!pip3 install pymongo"
   ]
  },
  {
   "cell_type": "code",
   "execution_count": 85,
   "metadata": {},
   "outputs": [],
   "source": [
    "import pandas as pd\n",
    "import numpy as np \n",
    "from pymongo import MongoClient\n",
    "import folium\n",
    "import googlemaps\n",
    "import requests\n",
    "import json"
   ]
  },
  {
   "cell_type": "code",
   "execution_count": 86,
   "metadata": {},
   "outputs": [],
   "source": [
    "# crear base de datos\n",
    "client=MongoClient()\n",
    "db=client.A\n",
    "colec = db.a"
   ]
  },
  {
   "cell_type": "code",
   "execution_count": 87,
   "metadata": {},
   "outputs": [],
   "source": [
    "# vamos a ver todas categorías que existen en la base\n",
    "query = list(colec.find({'$and':[{'number_of_employees': {'$lte':50,'$gte':10}},\\\n",
    "                               {'founded_year':{'$gte': 2008}},\\\n",
    "                                {'offices':{'$ne':True}}]},\\\n",
    "                      {'_id':0, 'name':1,'category_code':1,'number_of_employees':1,\\\n",
    "                       'founded_year':1,'offices':1}))"
   ]
  },
  {
   "cell_type": "code",
   "execution_count": 88,
   "metadata": {},
   "outputs": [
    {
     "name": "stdout",
     "output_type": "stream",
     "text": [
      "             name category_code  number_of_employees  founded_year  \\\n",
      "0         GoingOn      software                   40          2008   \n",
      "1     Crunchyroll   games_video                   50          2008   \n",
      "2        CircleUp       finance                   11          2011   \n",
      "3         PeekYou        search                   20          2012   \n",
      "4           GENWI        mobile                   25          2010   \n",
      "..            ...           ...                  ...           ...   \n",
      "581  Conversition           web                   10          2008   \n",
      "582      phinditt   advertising                   10          2008   \n",
      "583         Jelli    enterprise                   12          2008   \n",
      "584    Tiny Speck   games_video                   45          2009   \n",
      "585        Getyoo        mobile                   10          2009   \n",
      "\n",
      "                                               offices  \n",
      "0    [{'description': 'GoingOn Networks, Inc.', 'ad...  \n",
      "1    [{'description': '', 'address1': '', 'address2...  \n",
      "2    [{'description': '', 'address1': '', 'address2...  \n",
      "3    [{'description': None, 'address1': None, 'addr...  \n",
      "4    [{'description': '', 'address1': '4966 El Cami...  \n",
      "..                                                 ...  \n",
      "581  [{'description': 'HQ', 'address1': '', 'addres...  \n",
      "582  [{'description': 'suite', 'address1': '', 'add...  \n",
      "583  [{'description': 'Jelli, Inc.', 'address1': '4...  \n",
      "584  [{'description': '', 'address1': '163 Hastings...  \n",
      "585  [{'description': 'HQ', 'address1': 'Rue des Ta...  \n",
      "\n",
      "[586 rows x 5 columns]\n"
     ]
    },
    {
     "data": {
      "text/plain": [
       "585"
      ]
     },
     "execution_count": 88,
     "metadata": {},
     "output_type": "execute_result"
    }
   ],
   "source": [
    "query = pd.DataFrame(query)\n",
    "print(query)\n",
    "query=query.dropna()\n",
    "query.index = range(len(query))\n",
    "len(query)"
   ]
  },
  {
   "cell_type": "code",
   "execution_count": 89,
   "metadata": {},
   "outputs": [
    {
     "data": {
      "text/plain": [
       "69"
      ]
     },
     "execution_count": 89,
     "metadata": {},
     "output_type": "execute_result"
    }
   ],
   "source": [
    "index_drop = [i for i in range(len(query)) if query['offices'][i] == []]\n",
    "query = query.drop(index_drop) \n",
    "query.index = range(len(query))\n",
    "len(index_drop)"
   ]
  },
  {
   "cell_type": "code",
   "execution_count": 90,
   "metadata": {},
   "outputs": [
    {
     "data": {
      "text/plain": [
       "516"
      ]
     },
     "execution_count": 90,
     "metadata": {},
     "output_type": "execute_result"
    }
   ],
   "source": [
    "len(query)"
   ]
  },
  {
   "cell_type": "code",
   "execution_count": 91,
   "metadata": {},
   "outputs": [
    {
     "data": {
      "text/html": [
       "<div>\n",
       "<style scoped>\n",
       "    .dataframe tbody tr th:only-of-type {\n",
       "        vertical-align: middle;\n",
       "    }\n",
       "\n",
       "    .dataframe tbody tr th {\n",
       "        vertical-align: top;\n",
       "    }\n",
       "\n",
       "    .dataframe thead th {\n",
       "        text-align: right;\n",
       "    }\n",
       "</style>\n",
       "<table border=\"1\" class=\"dataframe\">\n",
       "  <thead>\n",
       "    <tr style=\"text-align: right;\">\n",
       "      <th></th>\n",
       "      <th>name</th>\n",
       "      <th>category_code</th>\n",
       "      <th>number_of_employees</th>\n",
       "      <th>founded_year</th>\n",
       "      <th>offices</th>\n",
       "    </tr>\n",
       "  </thead>\n",
       "  <tbody>\n",
       "    <tr>\n",
       "      <th>0</th>\n",
       "      <td>GoingOn</td>\n",
       "      <td>software</td>\n",
       "      <td>40</td>\n",
       "      <td>2008</td>\n",
       "      <td>[{'description': 'GoingOn Networks, Inc.', 'ad...</td>\n",
       "    </tr>\n",
       "    <tr>\n",
       "      <th>1</th>\n",
       "      <td>Crunchyroll</td>\n",
       "      <td>games_video</td>\n",
       "      <td>50</td>\n",
       "      <td>2008</td>\n",
       "      <td>[{'description': '', 'address1': '', 'address2...</td>\n",
       "    </tr>\n",
       "    <tr>\n",
       "      <th>2</th>\n",
       "      <td>CircleUp</td>\n",
       "      <td>finance</td>\n",
       "      <td>11</td>\n",
       "      <td>2011</td>\n",
       "      <td>[{'description': '', 'address1': '', 'address2...</td>\n",
       "    </tr>\n",
       "    <tr>\n",
       "      <th>3</th>\n",
       "      <td>PeekYou</td>\n",
       "      <td>search</td>\n",
       "      <td>20</td>\n",
       "      <td>2012</td>\n",
       "      <td>[{'description': None, 'address1': None, 'addr...</td>\n",
       "    </tr>\n",
       "    <tr>\n",
       "      <th>4</th>\n",
       "      <td>GENWI</td>\n",
       "      <td>mobile</td>\n",
       "      <td>25</td>\n",
       "      <td>2010</td>\n",
       "      <td>[{'description': '', 'address1': '4966 El Cami...</td>\n",
       "    </tr>\n",
       "  </tbody>\n",
       "</table>\n",
       "</div>"
      ],
      "text/plain": [
       "          name category_code  number_of_employees  founded_year  \\\n",
       "0      GoingOn      software                   40          2008   \n",
       "1  Crunchyroll   games_video                   50          2008   \n",
       "2     CircleUp       finance                   11          2011   \n",
       "3      PeekYou        search                   20          2012   \n",
       "4        GENWI        mobile                   25          2010   \n",
       "\n",
       "                                             offices  \n",
       "0  [{'description': 'GoingOn Networks, Inc.', 'ad...  \n",
       "1  [{'description': '', 'address1': '', 'address2...  \n",
       "2  [{'description': '', 'address1': '', 'address2...  \n",
       "3  [{'description': None, 'address1': None, 'addr...  \n",
       "4  [{'description': '', 'address1': '4966 El Cami...  "
      ]
     },
     "execution_count": 91,
     "metadata": {},
     "output_type": "execute_result"
    }
   ],
   "source": [
    "query.head()"
   ]
  },
  {
   "cell_type": "code",
   "execution_count": 92,
   "metadata": {},
   "outputs": [
    {
     "data": {
      "text/plain": [
       "{'description': 'Milan Office',\n",
       " 'address1': 'Via Andrea Cesalpino, 60',\n",
       " 'address2': '',\n",
       " 'zip_code': '20128',\n",
       " 'city': 'Milan',\n",
       " 'state_code': None,\n",
       " 'country_code': 'ITA',\n",
       " 'latitude': 45.507014,\n",
       " 'longitude': 9.2298577}"
      ]
     },
     "execution_count": 92,
     "metadata": {},
     "output_type": "execute_result"
    }
   ],
   "source": [
    "query.offices[100][0]"
   ]
  },
  {
   "cell_type": "code",
   "execution_count": 93,
   "metadata": {},
   "outputs": [],
   "source": [
    "def get_first(data):\n",
    "    res=[]\n",
    "    ofi=[]\n",
    "    \n",
    "    data=data['offices']\n",
    "    for e in data:\n",
    "        principal=None   # solo las tienen geodata\n",
    "        if e[0]['latitude'] and e[0]['longitude']:\n",
    "            principal={'type':'Point',\n",
    "                       'city': e[0]['city'],\n",
    "                       'country code': e[0]['country_code'],\n",
    "                       'coordinates':[\n",
    "                           e[0]['longitude'],\n",
    "                           e[0]['latitude']\n",
    "                           \n",
    "                       ]}\n",
    "            \n",
    "        ofi.append(principal)\n",
    "        \n",
    "        res.append({\n",
    "            'total_offices':len(e),\n",
    "            'lat':e[0]['latitude'],\n",
    "            'lng':e[0]['longitude'],\n",
    "            'oficina_principal':principal\n",
    "        })\n",
    "    \n",
    "    return res, ofi"
   ]
  },
  {
   "cell_type": "code",
   "execution_count": 94,
   "metadata": {},
   "outputs": [
    {
     "data": {
      "text/html": [
       "<div>\n",
       "<style scoped>\n",
       "    .dataframe tbody tr th:only-of-type {\n",
       "        vertical-align: middle;\n",
       "    }\n",
       "\n",
       "    .dataframe tbody tr th {\n",
       "        vertical-align: top;\n",
       "    }\n",
       "\n",
       "    .dataframe thead th {\n",
       "        text-align: right;\n",
       "    }\n",
       "</style>\n",
       "<table border=\"1\" class=\"dataframe\">\n",
       "  <thead>\n",
       "    <tr style=\"text-align: right;\">\n",
       "      <th></th>\n",
       "      <th>total_offices</th>\n",
       "      <th>lat</th>\n",
       "      <th>lng</th>\n",
       "      <th>oficina_principal.type</th>\n",
       "      <th>oficina_principal.city</th>\n",
       "      <th>oficina_principal.country code</th>\n",
       "      <th>oficina_principal.coordinates</th>\n",
       "      <th>oficina_principal</th>\n",
       "    </tr>\n",
       "  </thead>\n",
       "  <tbody>\n",
       "    <tr>\n",
       "      <th>0</th>\n",
       "      <td>1</td>\n",
       "      <td>37.782263</td>\n",
       "      <td>-122.392142</td>\n",
       "      <td>Point</td>\n",
       "      <td>San Francisco</td>\n",
       "      <td>USA</td>\n",
       "      <td>[-122.392142, 37.782263]</td>\n",
       "      <td>{'type': 'Point', 'city': 'San Francisco', 'co...</td>\n",
       "    </tr>\n",
       "    <tr>\n",
       "      <th>1</th>\n",
       "      <td>1</td>\n",
       "      <td>37.781265</td>\n",
       "      <td>-122.393229</td>\n",
       "      <td>Point</td>\n",
       "      <td>San Francisco</td>\n",
       "      <td>USA</td>\n",
       "      <td>[-122.393229, 37.781265]</td>\n",
       "      <td>{'type': 'Point', 'city': 'San Francisco', 'co...</td>\n",
       "    </tr>\n",
       "    <tr>\n",
       "      <th>2</th>\n",
       "      <td>1</td>\n",
       "      <td>NaN</td>\n",
       "      <td>NaN</td>\n",
       "      <td>NaN</td>\n",
       "      <td>NaN</td>\n",
       "      <td>NaN</td>\n",
       "      <td>NaN</td>\n",
       "      <td>None</td>\n",
       "    </tr>\n",
       "    <tr>\n",
       "      <th>3</th>\n",
       "      <td>1</td>\n",
       "      <td>40.757929</td>\n",
       "      <td>-73.985506</td>\n",
       "      <td>Point</td>\n",
       "      <td>New York</td>\n",
       "      <td>USA</td>\n",
       "      <td>[-73.985506, 40.757929]</td>\n",
       "      <td>{'type': 'Point', 'city': 'New York', 'country...</td>\n",
       "    </tr>\n",
       "    <tr>\n",
       "      <th>4</th>\n",
       "      <td>1</td>\n",
       "      <td>33.817100</td>\n",
       "      <td>-111.903500</td>\n",
       "      <td>Point</td>\n",
       "      <td>Los Altos</td>\n",
       "      <td>USA</td>\n",
       "      <td>[-111.9035, 33.8171]</td>\n",
       "      <td>{'type': 'Point', 'city': 'Los Altos', 'countr...</td>\n",
       "    </tr>\n",
       "  </tbody>\n",
       "</table>\n",
       "</div>"
      ],
      "text/plain": [
       "   total_offices        lat         lng oficina_principal.type  \\\n",
       "0              1  37.782263 -122.392142                  Point   \n",
       "1              1  37.781265 -122.393229                  Point   \n",
       "2              1        NaN         NaN                    NaN   \n",
       "3              1  40.757929  -73.985506                  Point   \n",
       "4              1  33.817100 -111.903500                  Point   \n",
       "\n",
       "  oficina_principal.city oficina_principal.country code  \\\n",
       "0          San Francisco                            USA   \n",
       "1          San Francisco                            USA   \n",
       "2                    NaN                            NaN   \n",
       "3               New York                            USA   \n",
       "4              Los Altos                            USA   \n",
       "\n",
       "  oficina_principal.coordinates  \\\n",
       "0      [-122.392142, 37.782263]   \n",
       "1      [-122.393229, 37.781265]   \n",
       "2                           NaN   \n",
       "3       [-73.985506, 40.757929]   \n",
       "4          [-111.9035, 33.8171]   \n",
       "\n",
       "                                   oficina_principal  \n",
       "0  {'type': 'Point', 'city': 'San Francisco', 'co...  \n",
       "1  {'type': 'Point', 'city': 'San Francisco', 'co...  \n",
       "2                                               None  \n",
       "3  {'type': 'Point', 'city': 'New York', 'country...  \n",
       "4  {'type': 'Point', 'city': 'Los Altos', 'countr...  "
      ]
     },
     "execution_count": 94,
     "metadata": {},
     "output_type": "execute_result"
    }
   ],
   "source": [
    "\n",
    "from pandas.io.json import json_normalize\n",
    "\n",
    "first_office=json_normalize(get_first(query)[0])\n",
    "first_office['oficina_principal']=get_first(query)[1]\n",
    "first_office.head()"
   ]
  },
  {
   "cell_type": "code",
   "execution_count": 95,
   "metadata": {},
   "outputs": [
    {
     "data": {
      "text/html": [
       "<div>\n",
       "<style scoped>\n",
       "    .dataframe tbody tr th:only-of-type {\n",
       "        vertical-align: middle;\n",
       "    }\n",
       "\n",
       "    .dataframe tbody tr th {\n",
       "        vertical-align: top;\n",
       "    }\n",
       "\n",
       "    .dataframe thead th {\n",
       "        text-align: right;\n",
       "    }\n",
       "</style>\n",
       "<table border=\"1\" class=\"dataframe\">\n",
       "  <thead>\n",
       "    <tr style=\"text-align: right;\">\n",
       "      <th></th>\n",
       "      <th>name</th>\n",
       "      <th>category_code</th>\n",
       "      <th>number_of_employees</th>\n",
       "      <th>founded_year</th>\n",
       "      <th>total_offices</th>\n",
       "      <th>lat</th>\n",
       "      <th>lng</th>\n",
       "      <th>oficina_principal.city</th>\n",
       "      <th>oficina_principal.country code</th>\n",
       "    </tr>\n",
       "  </thead>\n",
       "  <tbody>\n",
       "    <tr>\n",
       "      <th>0</th>\n",
       "      <td>GoingOn</td>\n",
       "      <td>software</td>\n",
       "      <td>40</td>\n",
       "      <td>2008</td>\n",
       "      <td>1</td>\n",
       "      <td>37.782263</td>\n",
       "      <td>-122.392142</td>\n",
       "      <td>San Francisco</td>\n",
       "      <td>USA</td>\n",
       "    </tr>\n",
       "    <tr>\n",
       "      <th>1</th>\n",
       "      <td>Crunchyroll</td>\n",
       "      <td>games_video</td>\n",
       "      <td>50</td>\n",
       "      <td>2008</td>\n",
       "      <td>1</td>\n",
       "      <td>37.781265</td>\n",
       "      <td>-122.393229</td>\n",
       "      <td>San Francisco</td>\n",
       "      <td>USA</td>\n",
       "    </tr>\n",
       "    <tr>\n",
       "      <th>2</th>\n",
       "      <td>CircleUp</td>\n",
       "      <td>finance</td>\n",
       "      <td>11</td>\n",
       "      <td>2011</td>\n",
       "      <td>1</td>\n",
       "      <td>NaN</td>\n",
       "      <td>NaN</td>\n",
       "      <td>NaN</td>\n",
       "      <td>NaN</td>\n",
       "    </tr>\n",
       "    <tr>\n",
       "      <th>3</th>\n",
       "      <td>PeekYou</td>\n",
       "      <td>search</td>\n",
       "      <td>20</td>\n",
       "      <td>2012</td>\n",
       "      <td>1</td>\n",
       "      <td>40.757929</td>\n",
       "      <td>-73.985506</td>\n",
       "      <td>New York</td>\n",
       "      <td>USA</td>\n",
       "    </tr>\n",
       "    <tr>\n",
       "      <th>4</th>\n",
       "      <td>GENWI</td>\n",
       "      <td>mobile</td>\n",
       "      <td>25</td>\n",
       "      <td>2010</td>\n",
       "      <td>1</td>\n",
       "      <td>33.817100</td>\n",
       "      <td>-111.903500</td>\n",
       "      <td>Los Altos</td>\n",
       "      <td>USA</td>\n",
       "    </tr>\n",
       "  </tbody>\n",
       "</table>\n",
       "</div>"
      ],
      "text/plain": [
       "          name category_code  number_of_employees  founded_year  \\\n",
       "0      GoingOn      software                   40          2008   \n",
       "1  Crunchyroll   games_video                   50          2008   \n",
       "2     CircleUp       finance                   11          2011   \n",
       "3      PeekYou        search                   20          2012   \n",
       "4        GENWI        mobile                   25          2010   \n",
       "\n",
       "   total_offices        lat         lng oficina_principal.city  \\\n",
       "0              1  37.782263 -122.392142          San Francisco   \n",
       "1              1  37.781265 -122.393229          San Francisco   \n",
       "2              1        NaN         NaN                    NaN   \n",
       "3              1  40.757929  -73.985506               New York   \n",
       "4              1  33.817100 -111.903500              Los Altos   \n",
       "\n",
       "  oficina_principal.country code  \n",
       "0                            USA  \n",
       "1                            USA  \n",
       "2                            NaN  \n",
       "3                            USA  \n",
       "4                            USA  "
      ]
     },
     "execution_count": 95,
     "metadata": {},
     "output_type": "execute_result"
    }
   ],
   "source": [
    "df_clean=pd.concat([query, first_office], axis=1)\n",
    "df_clean = df_clean.drop(['offices','oficina_principal','oficina_principal.coordinates','oficina_principal.type'],axis = 1)\n",
    "df_clean.head()"
   ]
  },
  {
   "cell_type": "code",
   "execution_count": 96,
   "metadata": {},
   "outputs": [
    {
     "data": {
      "text/plain": [
       "name                                0\n",
       "category_code                       0\n",
       "number_of_employees                 0\n",
       "founded_year                        0\n",
       "total_offices                       0\n",
       "lat                               132\n",
       "lng                               132\n",
       "oficina_principal.city            132\n",
       "oficina_principal.country code    132\n",
       "dtype: int64"
      ]
     },
     "execution_count": 96,
     "metadata": {},
     "output_type": "execute_result"
    }
   ],
   "source": [
    "df_clean.isnull().sum()"
   ]
  },
  {
   "cell_type": "code",
   "execution_count": 97,
   "metadata": {},
   "outputs": [
    {
     "data": {
      "text/plain": [
       "516"
      ]
     },
     "execution_count": 97,
     "metadata": {},
     "output_type": "execute_result"
    }
   ],
   "source": [
    "len(df_clean)"
   ]
  },
  {
   "cell_type": "code",
   "execution_count": 98,
   "metadata": {},
   "outputs": [],
   "source": [
    "data = df_clean.dropna()\n",
    "data.index = range(len(data))"
   ]
  },
  {
   "cell_type": "code",
   "execution_count": 99,
   "metadata": {},
   "outputs": [
    {
     "data": {
      "text/plain": [
       "384"
      ]
     },
     "execution_count": 99,
     "metadata": {},
     "output_type": "execute_result"
    }
   ],
   "source": [
    "len(data)"
   ]
  },
  {
   "cell_type": "code",
   "execution_count": 100,
   "metadata": {},
   "outputs": [
    {
     "data": {
      "text/plain": [
       "Index(['name', 'category_code', 'number_of_employees', 'founded_year',\n",
       "       'total_offices', 'lat', 'lng', 'oficina_principal.city',\n",
       "       'oficina_principal.country code'],\n",
       "      dtype='object')"
      ]
     },
     "execution_count": 100,
     "metadata": {},
     "output_type": "execute_result"
    }
   ],
   "source": [
    "data.columns"
   ]
  },
  {
   "cell_type": "code",
   "execution_count": 101,
   "metadata": {},
   "outputs": [
    {
     "data": {
      "text/html": [
       "<div>\n",
       "<style scoped>\n",
       "    .dataframe tbody tr th:only-of-type {\n",
       "        vertical-align: middle;\n",
       "    }\n",
       "\n",
       "    .dataframe tbody tr th {\n",
       "        vertical-align: top;\n",
       "    }\n",
       "\n",
       "    .dataframe thead th {\n",
       "        text-align: right;\n",
       "    }\n",
       "</style>\n",
       "<table border=\"1\" class=\"dataframe\">\n",
       "  <thead>\n",
       "    <tr style=\"text-align: right;\">\n",
       "      <th></th>\n",
       "      <th>name</th>\n",
       "      <th>category_code</th>\n",
       "      <th>number_of_employees</th>\n",
       "      <th>founded_year</th>\n",
       "      <th>total_offices</th>\n",
       "      <th>lat</th>\n",
       "      <th>lng</th>\n",
       "      <th>oficina_principal.city</th>\n",
       "      <th>oficina_principal.country code</th>\n",
       "    </tr>\n",
       "  </thead>\n",
       "  <tbody>\n",
       "    <tr>\n",
       "      <th>0</th>\n",
       "      <td>Fixya</td>\n",
       "      <td>web</td>\n",
       "      <td>30</td>\n",
       "      <td>2013</td>\n",
       "      <td>1</td>\n",
       "      <td>37.566879</td>\n",
       "      <td>-122.323895</td>\n",
       "      <td>San Mateo</td>\n",
       "      <td>USA</td>\n",
       "    </tr>\n",
       "    <tr>\n",
       "      <th>1</th>\n",
       "      <td>Webnode</td>\n",
       "      <td>network_hosting</td>\n",
       "      <td>30</td>\n",
       "      <td>2008</td>\n",
       "      <td>1</td>\n",
       "      <td>49.225902</td>\n",
       "      <td>16.569282</td>\n",
       "      <td>Brno</td>\n",
       "      <td>CZE</td>\n",
       "    </tr>\n",
       "    <tr>\n",
       "      <th>2</th>\n",
       "      <td>First30Days</td>\n",
       "      <td>web</td>\n",
       "      <td>17</td>\n",
       "      <td>2008</td>\n",
       "      <td>1</td>\n",
       "      <td>38.257035</td>\n",
       "      <td>-85.717393</td>\n",
       "      <td>Louisville</td>\n",
       "      <td>USA</td>\n",
       "    </tr>\n",
       "    <tr>\n",
       "      <th>3</th>\n",
       "      <td>YouNoodle</td>\n",
       "      <td>analytics</td>\n",
       "      <td>18</td>\n",
       "      <td>2010</td>\n",
       "      <td>1</td>\n",
       "      <td>37.776659</td>\n",
       "      <td>-122.395875</td>\n",
       "      <td>San Francisco</td>\n",
       "      <td>USA</td>\n",
       "    </tr>\n",
       "    <tr>\n",
       "      <th>4</th>\n",
       "      <td>CityIN</td>\n",
       "      <td>web</td>\n",
       "      <td>11</td>\n",
       "      <td>2008</td>\n",
       "      <td>1</td>\n",
       "      <td>35.861660</td>\n",
       "      <td>104.195397</td>\n",
       "      <td></td>\n",
       "      <td>CHN</td>\n",
       "    </tr>\n",
       "  </tbody>\n",
       "</table>\n",
       "</div>"
      ],
      "text/plain": [
       "          name    category_code  number_of_employees  founded_year  \\\n",
       "0        Fixya              web                   30          2013   \n",
       "1      Webnode  network_hosting                   30          2008   \n",
       "2  First30Days              web                   17          2008   \n",
       "3    YouNoodle        analytics                   18          2010   \n",
       "4       CityIN              web                   11          2008   \n",
       "\n",
       "   total_offices        lat         lng oficina_principal.city  \\\n",
       "0              1  37.566879 -122.323895              San Mateo   \n",
       "1              1  49.225902   16.569282                   Brno   \n",
       "2              1  38.257035  -85.717393             Louisville   \n",
       "3              1  37.776659 -122.395875          San Francisco   \n",
       "4              1  35.861660  104.195397                          \n",
       "\n",
       "  oficina_principal.country code  \n",
       "0                            USA  \n",
       "1                            CZE  \n",
       "2                            USA  \n",
       "3                            USA  \n",
       "4                            CHN  "
      ]
     },
     "execution_count": 101,
     "metadata": {},
     "output_type": "execute_result"
    }
   ],
   "source": [
    "#filtro por categorías que me interesan\n",
    "data_cat = data[(data.category_code == 'analytics') |(data.category_code == 'network_hosting')|(data.category_code == 'web')]\n",
    "\n",
    "len(data_cat)\n",
    "data_cat.index = range(len(data_cat))\n",
    "data_cat.head()\n"
   ]
  },
  {
   "cell_type": "code",
   "execution_count": 102,
   "metadata": {},
   "outputs": [
    {
     "data": {
      "text/plain": [
       "89"
      ]
     },
     "execution_count": 102,
     "metadata": {},
     "output_type": "execute_result"
    }
   ],
   "source": [
    "len(data_cat)"
   ]
  },
  {
   "cell_type": "code",
   "execution_count": 103,
   "metadata": {},
   "outputs": [],
   "source": [
    "# MAPA\n",
    "mapa=folium.Map(location=[19.41, -99.16], tiles='cartodbpositron', zoom_start=1)\n",
    "lat = list(data_cat['lat'])\n",
    "long = list(data_cat['lng'])\n",
    "\n",
    "for i in range(len(lat)):\n",
    "    folium.Marker([lat[i],long[i]], icon=folium.Icon(color = \"red\")).add_to(mapa)"
   ]
  },
  {
   "cell_type": "code",
   "execution_count": 104,
   "metadata": {},
   "outputs": [
    {
     "data": {
      "text/plain": [
       "75"
      ]
     },
     "execution_count": 104,
     "metadata": {},
     "output_type": "execute_result"
    }
   ],
   "source": [
    "# mapa tiene 89 posibles ubicaciones, vamos a filtrar por mas cosas\n",
    "# Filtramos por que tengan una sola oficina\n",
    "data_cat = data_cat[(data_cat.total_offices == 1)]\n",
    "len(data_cat)"
   ]
  },
  {
   "cell_type": "code",
   "execution_count": 105,
   "metadata": {},
   "outputs": [
    {
     "data": {
      "text/html": [
       "<div>\n",
       "<style scoped>\n",
       "    .dataframe tbody tr th:only-of-type {\n",
       "        vertical-align: middle;\n",
       "    }\n",
       "\n",
       "    .dataframe tbody tr th {\n",
       "        vertical-align: top;\n",
       "    }\n",
       "\n",
       "    .dataframe thead th {\n",
       "        text-align: right;\n",
       "    }\n",
       "</style>\n",
       "<table border=\"1\" class=\"dataframe\">\n",
       "  <thead>\n",
       "    <tr style=\"text-align: right;\">\n",
       "      <th></th>\n",
       "      <th>name</th>\n",
       "      <th>category_code</th>\n",
       "      <th>number_of_employees</th>\n",
       "      <th>founded_year</th>\n",
       "      <th>total_offices</th>\n",
       "      <th>lat</th>\n",
       "      <th>lng</th>\n",
       "      <th>oficina_principal.city</th>\n",
       "      <th>oficina_principal.country code</th>\n",
       "    </tr>\n",
       "  </thead>\n",
       "  <tbody>\n",
       "    <tr>\n",
       "      <th>0</th>\n",
       "      <td>Fixya</td>\n",
       "      <td>web</td>\n",
       "      <td>30</td>\n",
       "      <td>2013</td>\n",
       "      <td>1</td>\n",
       "      <td>37.566879</td>\n",
       "      <td>-122.323895</td>\n",
       "      <td>San Mateo</td>\n",
       "      <td>USA</td>\n",
       "    </tr>\n",
       "    <tr>\n",
       "      <th>1</th>\n",
       "      <td>Webnode</td>\n",
       "      <td>network_hosting</td>\n",
       "      <td>30</td>\n",
       "      <td>2008</td>\n",
       "      <td>1</td>\n",
       "      <td>49.225902</td>\n",
       "      <td>16.569282</td>\n",
       "      <td>Brno</td>\n",
       "      <td>CZE</td>\n",
       "    </tr>\n",
       "    <tr>\n",
       "      <th>2</th>\n",
       "      <td>First30Days</td>\n",
       "      <td>web</td>\n",
       "      <td>17</td>\n",
       "      <td>2008</td>\n",
       "      <td>1</td>\n",
       "      <td>38.257035</td>\n",
       "      <td>-85.717393</td>\n",
       "      <td>Louisville</td>\n",
       "      <td>USA</td>\n",
       "    </tr>\n",
       "    <tr>\n",
       "      <th>3</th>\n",
       "      <td>YouNoodle</td>\n",
       "      <td>analytics</td>\n",
       "      <td>18</td>\n",
       "      <td>2010</td>\n",
       "      <td>1</td>\n",
       "      <td>37.776659</td>\n",
       "      <td>-122.395875</td>\n",
       "      <td>San Francisco</td>\n",
       "      <td>USA</td>\n",
       "    </tr>\n",
       "    <tr>\n",
       "      <th>4</th>\n",
       "      <td>CityIN</td>\n",
       "      <td>web</td>\n",
       "      <td>11</td>\n",
       "      <td>2008</td>\n",
       "      <td>1</td>\n",
       "      <td>35.861660</td>\n",
       "      <td>104.195397</td>\n",
       "      <td></td>\n",
       "      <td>CHN</td>\n",
       "    </tr>\n",
       "  </tbody>\n",
       "</table>\n",
       "</div>"
      ],
      "text/plain": [
       "          name    category_code  number_of_employees  founded_year  \\\n",
       "0        Fixya              web                   30          2013   \n",
       "1      Webnode  network_hosting                   30          2008   \n",
       "2  First30Days              web                   17          2008   \n",
       "3    YouNoodle        analytics                   18          2010   \n",
       "4       CityIN              web                   11          2008   \n",
       "\n",
       "   total_offices        lat         lng oficina_principal.city  \\\n",
       "0              1  37.566879 -122.323895              San Mateo   \n",
       "1              1  49.225902   16.569282                   Brno   \n",
       "2              1  38.257035  -85.717393             Louisville   \n",
       "3              1  37.776659 -122.395875          San Francisco   \n",
       "4              1  35.861660  104.195397                          \n",
       "\n",
       "  oficina_principal.country code  \n",
       "0                            USA  \n",
       "1                            CZE  \n",
       "2                            USA  \n",
       "3                            USA  \n",
       "4                            CHN  "
      ]
     },
     "execution_count": 105,
     "metadata": {},
     "output_type": "execute_result"
    }
   ],
   "source": [
    "data_cat.head()"
   ]
  },
  {
   "cell_type": "code",
   "execution_count": 106,
   "metadata": {},
   "outputs": [
    {
     "data": {
      "text/plain": [
       "{'AUS',\n",
       " 'BEL',\n",
       " 'CAN',\n",
       " 'CHE',\n",
       " 'CHN',\n",
       " 'CZE',\n",
       " 'DEU',\n",
       " 'FRA',\n",
       " 'GBR',\n",
       " 'IND',\n",
       " 'IRL',\n",
       " 'NLD',\n",
       " 'NOR',\n",
       " 'NZL',\n",
       " 'PER',\n",
       " 'SGP',\n",
       " 'USA'}"
      ]
     },
     "execution_count": 106,
     "metadata": {},
     "output_type": "execute_result"
    }
   ],
   "source": [
    "set(data_cat['oficina_principal.country code'])"
   ]
  },
  {
   "cell_type": "code",
   "execution_count": 107,
   "metadata": {},
   "outputs": [],
   "source": [
    "data_cat.to_csv('datos_limpios.csv')"
   ]
  },
  {
   "cell_type": "markdown",
   "metadata": {},
   "source": [
    "Vamos dividir las coordenadas dependiendo de si son noroeste, noreste, sureste, suroeste. \n",
    "\n",
    "Latitud \n",
    "\n",
    "N  (+)   S (-) \n",
    "\n",
    "\n",
    "Longitud\n",
    "\n",
    "\n",
    "E  (+)   0 (-) "
   ]
  },
  {
   "cell_type": "code",
   "execution_count": 108,
   "metadata": {},
   "outputs": [],
   "source": [
    "nor_este = data_cat[(data_cat.lat > 0) & (data_cat.lng > 0)].reset_index()\n",
    "nor_oeste = data_cat[(data_cat.lat > 0) & (data_cat.lng < 0)].reset_index()\n",
    "\n",
    "sur_este = data_cat[(data_cat.lat < 0) & (data_cat.lng > 0)].reset_index()\n",
    "sur_oeste = data_cat[(data_cat.lat < 0) & (data_cat.lng < 0)].reset_index()"
   ]
  },
  {
   "cell_type": "code",
   "execution_count": 125,
   "metadata": {},
   "outputs": [
    {
     "data": {
      "text/html": [
       "<div>\n",
       "<style scoped>\n",
       "    .dataframe tbody tr th:only-of-type {\n",
       "        vertical-align: middle;\n",
       "    }\n",
       "\n",
       "    .dataframe tbody tr th {\n",
       "        vertical-align: top;\n",
       "    }\n",
       "\n",
       "    .dataframe thead th {\n",
       "        text-align: right;\n",
       "    }\n",
       "</style>\n",
       "<table border=\"1\" class=\"dataframe\">\n",
       "  <thead>\n",
       "    <tr style=\"text-align: right;\">\n",
       "      <th></th>\n",
       "      <th>index</th>\n",
       "      <th>name</th>\n",
       "      <th>category_code</th>\n",
       "      <th>number_of_employees</th>\n",
       "      <th>founded_year</th>\n",
       "      <th>total_offices</th>\n",
       "      <th>lat</th>\n",
       "      <th>lng</th>\n",
       "      <th>oficina_principal.city</th>\n",
       "      <th>oficina_principal.country code</th>\n",
       "    </tr>\n",
       "  </thead>\n",
       "  <tbody>\n",
       "    <tr>\n",
       "      <th>0</th>\n",
       "      <td>1</td>\n",
       "      <td>Webnode</td>\n",
       "      <td>network_hosting</td>\n",
       "      <td>30</td>\n",
       "      <td>2008</td>\n",
       "      <td>1</td>\n",
       "      <td>49.225902</td>\n",
       "      <td>16.569282</td>\n",
       "      <td>Brno</td>\n",
       "      <td>CZE</td>\n",
       "    </tr>\n",
       "    <tr>\n",
       "      <th>1</th>\n",
       "      <td>4</td>\n",
       "      <td>CityIN</td>\n",
       "      <td>web</td>\n",
       "      <td>11</td>\n",
       "      <td>2008</td>\n",
       "      <td>1</td>\n",
       "      <td>35.861660</td>\n",
       "      <td>104.195397</td>\n",
       "      <td></td>\n",
       "      <td>CHN</td>\n",
       "    </tr>\n",
       "    <tr>\n",
       "      <th>2</th>\n",
       "      <td>5</td>\n",
       "      <td>BuyerRaja</td>\n",
       "      <td>web</td>\n",
       "      <td>20</td>\n",
       "      <td>2008</td>\n",
       "      <td>1</td>\n",
       "      <td>13.033353</td>\n",
       "      <td>77.578768</td>\n",
       "      <td>Bangalore</td>\n",
       "      <td>IND</td>\n",
       "    </tr>\n",
       "    <tr>\n",
       "      <th>3</th>\n",
       "      <td>7</td>\n",
       "      <td>Park Hill</td>\n",
       "      <td>web</td>\n",
       "      <td>10</td>\n",
       "      <td>2008</td>\n",
       "      <td>1</td>\n",
       "      <td>12.869360</td>\n",
       "      <td>74.842560</td>\n",
       "      <td>Mangalore</td>\n",
       "      <td>IND</td>\n",
       "    </tr>\n",
       "    <tr>\n",
       "      <th>4</th>\n",
       "      <td>17</td>\n",
       "      <td>Jibes</td>\n",
       "      <td>web</td>\n",
       "      <td>15</td>\n",
       "      <td>2008</td>\n",
       "      <td>1</td>\n",
       "      <td>52.091381</td>\n",
       "      <td>5.148893</td>\n",
       "      <td>Utrecht</td>\n",
       "      <td>NLD</td>\n",
       "    </tr>\n",
       "    <tr>\n",
       "      <th>5</th>\n",
       "      <td>29</td>\n",
       "      <td>IT Stocklist</td>\n",
       "      <td>web</td>\n",
       "      <td>12</td>\n",
       "      <td>2008</td>\n",
       "      <td>1</td>\n",
       "      <td>50.710267</td>\n",
       "      <td>7.066468</td>\n",
       "      <td>Bonn</td>\n",
       "      <td>DEU</td>\n",
       "    </tr>\n",
       "    <tr>\n",
       "      <th>6</th>\n",
       "      <td>33</td>\n",
       "      <td>Calameo</td>\n",
       "      <td>web</td>\n",
       "      <td>10</td>\n",
       "      <td>2008</td>\n",
       "      <td>1</td>\n",
       "      <td>48.871174</td>\n",
       "      <td>2.308019</td>\n",
       "      <td>Paris</td>\n",
       "      <td>FRA</td>\n",
       "    </tr>\n",
       "    <tr>\n",
       "      <th>7</th>\n",
       "      <td>48</td>\n",
       "      <td>JobsTAXI</td>\n",
       "      <td>web</td>\n",
       "      <td>12</td>\n",
       "      <td>2008</td>\n",
       "      <td>1</td>\n",
       "      <td>1.279684</td>\n",
       "      <td>103.842646</td>\n",
       "      <td>Singapore</td>\n",
       "      <td>SGP</td>\n",
       "    </tr>\n",
       "    <tr>\n",
       "      <th>8</th>\n",
       "      <td>49</td>\n",
       "      <td>TRIBAX</td>\n",
       "      <td>network_hosting</td>\n",
       "      <td>12</td>\n",
       "      <td>2008</td>\n",
       "      <td>1</td>\n",
       "      <td>52.527310</td>\n",
       "      <td>13.392249</td>\n",
       "      <td>Berlin</td>\n",
       "      <td>DEU</td>\n",
       "    </tr>\n",
       "    <tr>\n",
       "      <th>9</th>\n",
       "      <td>58</td>\n",
       "      <td>JobsByRef</td>\n",
       "      <td>web</td>\n",
       "      <td>10</td>\n",
       "      <td>2008</td>\n",
       "      <td>1</td>\n",
       "      <td>13.029274</td>\n",
       "      <td>80.248153</td>\n",
       "      <td>Chennai</td>\n",
       "      <td>IND</td>\n",
       "    </tr>\n",
       "    <tr>\n",
       "      <th>10</th>\n",
       "      <td>60</td>\n",
       "      <td>studdex</td>\n",
       "      <td>web</td>\n",
       "      <td>10</td>\n",
       "      <td>2008</td>\n",
       "      <td>1</td>\n",
       "      <td>51.452334</td>\n",
       "      <td>7.355436</td>\n",
       "      <td>Berlin</td>\n",
       "      <td>DEU</td>\n",
       "    </tr>\n",
       "    <tr>\n",
       "      <th>11</th>\n",
       "      <td>66</td>\n",
       "      <td>Neovada</td>\n",
       "      <td>web</td>\n",
       "      <td>16</td>\n",
       "      <td>2008</td>\n",
       "      <td>1</td>\n",
       "      <td>59.913746</td>\n",
       "      <td>10.796381</td>\n",
       "      <td>Oslo</td>\n",
       "      <td>NOR</td>\n",
       "    </tr>\n",
       "    <tr>\n",
       "      <th>12</th>\n",
       "      <td>68</td>\n",
       "      <td>tracx</td>\n",
       "      <td>analytics</td>\n",
       "      <td>40</td>\n",
       "      <td>2008</td>\n",
       "      <td>1</td>\n",
       "      <td>32.055400</td>\n",
       "      <td>34.759500</td>\n",
       "      <td>New York</td>\n",
       "      <td>USA</td>\n",
       "    </tr>\n",
       "    <tr>\n",
       "      <th>13</th>\n",
       "      <td>74</td>\n",
       "      <td>Belighted</td>\n",
       "      <td>web</td>\n",
       "      <td>13</td>\n",
       "      <td>2008</td>\n",
       "      <td>1</td>\n",
       "      <td>50.671331</td>\n",
       "      <td>4.610249</td>\n",
       "      <td>Louvain-la-Neuve</td>\n",
       "      <td>BEL</td>\n",
       "    </tr>\n",
       "    <tr>\n",
       "      <th>14</th>\n",
       "      <td>75</td>\n",
       "      <td>kinkon</td>\n",
       "      <td>web</td>\n",
       "      <td>10</td>\n",
       "      <td>2008</td>\n",
       "      <td>1</td>\n",
       "      <td>49.439304</td>\n",
       "      <td>7.771808</td>\n",
       "      <td>Kaiserslautern</td>\n",
       "      <td>DEU</td>\n",
       "    </tr>\n",
       "    <tr>\n",
       "      <th>15</th>\n",
       "      <td>81</td>\n",
       "      <td>Ykone</td>\n",
       "      <td>web</td>\n",
       "      <td>10</td>\n",
       "      <td>2009</td>\n",
       "      <td>1</td>\n",
       "      <td>48.856667</td>\n",
       "      <td>2.350987</td>\n",
       "      <td>Paris</td>\n",
       "      <td>FRA</td>\n",
       "    </tr>\n",
       "    <tr>\n",
       "      <th>16</th>\n",
       "      <td>83</td>\n",
       "      <td>DSwiss</td>\n",
       "      <td>web</td>\n",
       "      <td>10</td>\n",
       "      <td>2008</td>\n",
       "      <td>1</td>\n",
       "      <td>47.376362</td>\n",
       "      <td>8.514212</td>\n",
       "      <td>ZÃ¼rich</td>\n",
       "      <td>CHE</td>\n",
       "    </tr>\n",
       "  </tbody>\n",
       "</table>\n",
       "</div>"
      ],
      "text/plain": [
       "    index          name    category_code  number_of_employees  founded_year  \\\n",
       "0       1       Webnode  network_hosting                   30          2008   \n",
       "1       4        CityIN              web                   11          2008   \n",
       "2       5     BuyerRaja              web                   20          2008   \n",
       "3       7     Park Hill              web                   10          2008   \n",
       "4      17         Jibes              web                   15          2008   \n",
       "5      29  IT Stocklist              web                   12          2008   \n",
       "6      33       Calameo              web                   10          2008   \n",
       "7      48      JobsTAXI              web                   12          2008   \n",
       "8      49        TRIBAX  network_hosting                   12          2008   \n",
       "9      58     JobsByRef              web                   10          2008   \n",
       "10     60       studdex              web                   10          2008   \n",
       "11     66       Neovada              web                   16          2008   \n",
       "12     68         tracx        analytics                   40          2008   \n",
       "13     74     Belighted              web                   13          2008   \n",
       "14     75        kinkon              web                   10          2008   \n",
       "15     81         Ykone              web                   10          2009   \n",
       "16     83        DSwiss              web                   10          2008   \n",
       "\n",
       "    total_offices        lat         lng oficina_principal.city  \\\n",
       "0               1  49.225902   16.569282                   Brno   \n",
       "1               1  35.861660  104.195397                          \n",
       "2               1  13.033353   77.578768              Bangalore   \n",
       "3               1  12.869360   74.842560              Mangalore   \n",
       "4               1  52.091381    5.148893                Utrecht   \n",
       "5               1  50.710267    7.066468                   Bonn   \n",
       "6               1  48.871174    2.308019                  Paris   \n",
       "7               1   1.279684  103.842646              Singapore   \n",
       "8               1  52.527310   13.392249                 Berlin   \n",
       "9               1  13.029274   80.248153                Chennai   \n",
       "10              1  51.452334    7.355436                 Berlin   \n",
       "11              1  59.913746   10.796381                   Oslo   \n",
       "12              1  32.055400   34.759500               New York   \n",
       "13              1  50.671331    4.610249       Louvain-la-Neuve   \n",
       "14              1  49.439304    7.771808         Kaiserslautern   \n",
       "15              1  48.856667    2.350987                  Paris   \n",
       "16              1  47.376362    8.514212                ZÃ¼rich   \n",
       "\n",
       "   oficina_principal.country code  \n",
       "0                             CZE  \n",
       "1                             CHN  \n",
       "2                             IND  \n",
       "3                             IND  \n",
       "4                             NLD  \n",
       "5                             DEU  \n",
       "6                             FRA  \n",
       "7                             SGP  \n",
       "8                             DEU  \n",
       "9                             IND  \n",
       "10                            DEU  \n",
       "11                            NOR  \n",
       "12                            USA  \n",
       "13                            BEL  \n",
       "14                            DEU  \n",
       "15                            FRA  \n",
       "16                            CHE  "
      ]
     },
     "execution_count": 125,
     "metadata": {},
     "output_type": "execute_result"
    }
   ],
   "source": [
    "nor_este"
   ]
  },
  {
   "cell_type": "code",
   "execution_count": 109,
   "metadata": {},
   "outputs": [
    {
     "name": "stdout",
     "output_type": "stream",
     "text": [
      "17\n",
      "53\n",
      "4\n",
      "1\n"
     ]
    }
   ],
   "source": [
    "print(len(nor_este))\n",
    "print(len(nor_oeste))\n",
    "print(len(sur_este))\n",
    "print(len(sur_oeste))"
   ]
  },
  {
   "cell_type": "code",
   "execution_count": 110,
   "metadata": {},
   "outputs": [
    {
     "data": {
      "text/html": [
       "<div style=\"width:100%;\"><div style=\"position:relative;width:100%;height:0;padding-bottom:60%;\"><iframe src=\"data:text/html;charset=utf-8;base64,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\" style=\"position:absolute;width:100%;height:100%;left:0;top:0;border:none !important;\" allowfullscreen webkitallowfullscreen mozallowfullscreen></iframe></div></div>"
      ],
      "text/plain": [
       "<folium.folium.Map at 0x118aca690>"
      ]
     },
     "execution_count": 110,
     "metadata": {},
     "output_type": "execute_result"
    }
   ],
   "source": [
    "mapita =folium.Map(location=[0,0], tiles='cartodbpositron', zoom_start=2)\n",
    "\n",
    "def mapa(db, colores):\n",
    "    lat = list(db['lat'])\n",
    "    long = list(db['lng'])\n",
    "    \n",
    "    for i in range(len(lat)):\n",
    "        folium.Marker([lat[i],long[i]], icon=folium.Icon(color = str(colores))).add_to(mapita)\n",
    "    \n",
    "    return mapita\n",
    "mapa(nor_este, colores = 'blue')\n",
    "mapa(nor_oeste, colores = 'darkblue')\n",
    "mapa(sur_este, colores = 'green')\n",
    "mapa(sur_oeste, colores = 'darkgreen')"
   ]
  },
  {
   "cell_type": "code",
   "execution_count": 111,
   "metadata": {},
   "outputs": [],
   "source": [
    "#mapita.save('mapita1.html')"
   ]
  },
  {
   "cell_type": "code",
   "execution_count": 112,
   "metadata": {},
   "outputs": [],
   "source": [
    "lat = list(data_cat['lat'])\n",
    "long = list(data_cat['lng'])"
   ]
  },
  {
   "cell_type": "code",
   "execution_count": 113,
   "metadata": {},
   "outputs": [
    {
     "data": {
      "text/plain": [
       "<Response [200]>"
      ]
     },
     "execution_count": 113,
     "metadata": {},
     "output_type": "execute_result"
    }
   ],
   "source": [
    "#  I. Condición: Aeropuertos cerca\n",
    "req = requests.get('https://gist.githubusercontent.com/tdreyno/4278655/raw/7b0762c09b519f40397e4c3e100b097d861f5588/airports.json')\n",
    "req"
   ]
  },
  {
   "cell_type": "code",
   "execution_count": 114,
   "metadata": {},
   "outputs": [],
   "source": [
    "results=req.json()\n",
    "airports=pd.DataFrame(results)"
   ]
  },
  {
   "cell_type": "code",
   "execution_count": 115,
   "metadata": {},
   "outputs": [
    {
     "data": {
      "text/html": [
       "<div>\n",
       "<style scoped>\n",
       "    .dataframe tbody tr th:only-of-type {\n",
       "        vertical-align: middle;\n",
       "    }\n",
       "\n",
       "    .dataframe tbody tr th {\n",
       "        vertical-align: top;\n",
       "    }\n",
       "\n",
       "    .dataframe thead th {\n",
       "        text-align: right;\n",
       "    }\n",
       "</style>\n",
       "<table border=\"1\" class=\"dataframe\">\n",
       "  <thead>\n",
       "    <tr style=\"text-align: right;\">\n",
       "      <th></th>\n",
       "      <th>code</th>\n",
       "      <th>lat</th>\n",
       "      <th>lon</th>\n",
       "      <th>name</th>\n",
       "      <th>city</th>\n",
       "      <th>state</th>\n",
       "      <th>country</th>\n",
       "      <th>woeid</th>\n",
       "      <th>tz</th>\n",
       "      <th>phone</th>\n",
       "      <th>type</th>\n",
       "      <th>email</th>\n",
       "      <th>url</th>\n",
       "      <th>runway_length</th>\n",
       "      <th>elev</th>\n",
       "      <th>icao</th>\n",
       "      <th>direct_flights</th>\n",
       "      <th>carriers</th>\n",
       "    </tr>\n",
       "  </thead>\n",
       "  <tbody>\n",
       "    <tr>\n",
       "      <th>0</th>\n",
       "      <td>AAA</td>\n",
       "      <td>-17.3595</td>\n",
       "      <td>-145.494</td>\n",
       "      <td>Anaa Airport</td>\n",
       "      <td>Anaa</td>\n",
       "      <td>Tuamotu-Gambier</td>\n",
       "      <td>French Polynesia</td>\n",
       "      <td>12512819</td>\n",
       "      <td>Pacific/Midway</td>\n",
       "      <td></td>\n",
       "      <td>Airports</td>\n",
       "      <td></td>\n",
       "      <td></td>\n",
       "      <td>4921</td>\n",
       "      <td>7</td>\n",
       "      <td>NTGA</td>\n",
       "      <td>2</td>\n",
       "      <td>1</td>\n",
       "    </tr>\n",
       "    <tr>\n",
       "      <th>1</th>\n",
       "      <td>AAE</td>\n",
       "      <td>36.8236</td>\n",
       "      <td>7.8103</td>\n",
       "      <td>El Mellah Airport</td>\n",
       "      <td>El Tarf</td>\n",
       "      <td>Annaba</td>\n",
       "      <td>Algeria</td>\n",
       "      <td>12510325</td>\n",
       "      <td>Africa/Algiers</td>\n",
       "      <td></td>\n",
       "      <td>Airports</td>\n",
       "      <td></td>\n",
       "      <td></td>\n",
       "      <td>9843</td>\n",
       "      <td>16</td>\n",
       "      <td>DABB</td>\n",
       "      <td>6</td>\n",
       "      <td>2</td>\n",
       "    </tr>\n",
       "    <tr>\n",
       "      <th>2</th>\n",
       "      <td>AAL</td>\n",
       "      <td>57.0952</td>\n",
       "      <td>9.85606</td>\n",
       "      <td>Aalborg Airport</td>\n",
       "      <td>Norresundby</td>\n",
       "      <td>Nordjylland</td>\n",
       "      <td>Denmark</td>\n",
       "      <td>12512587</td>\n",
       "      <td>Europe/Copenhagen</td>\n",
       "      <td></td>\n",
       "      <td>Airports</td>\n",
       "      <td></td>\n",
       "      <td>http://www.aal.dk/</td>\n",
       "      <td>8700</td>\n",
       "      <td>10</td>\n",
       "      <td>EKYT</td>\n",
       "      <td>7</td>\n",
       "      <td>10</td>\n",
       "    </tr>\n",
       "    <tr>\n",
       "      <th>3</th>\n",
       "      <td>AAM</td>\n",
       "      <td>-24.8</td>\n",
       "      <td>31.5333</td>\n",
       "      <td>Mala Mala</td>\n",
       "      <td>Mala Mala</td>\n",
       "      <td></td>\n",
       "      <td>South Africa</td>\n",
       "      <td>55921381</td>\n",
       "      <td>Africa/Johannesburg</td>\n",
       "      <td></td>\n",
       "      <td>Airports</td>\n",
       "      <td></td>\n",
       "      <td></td>\n",
       "      <td>4420</td>\n",
       "      <td>1200</td>\n",
       "      <td>FAMD</td>\n",
       "      <td>1</td>\n",
       "      <td>1</td>\n",
       "    </tr>\n",
       "    <tr>\n",
       "      <th>4</th>\n",
       "      <td>AAN</td>\n",
       "      <td>24.25</td>\n",
       "      <td>55.75</td>\n",
       "      <td>Al Ain Airport</td>\n",
       "      <td>Ayn al Faydah</td>\n",
       "      <td>Abu Dhabi</td>\n",
       "      <td>United Arab Emirates</td>\n",
       "      <td>12523371</td>\n",
       "      <td>Asia/Dubai</td>\n",
       "      <td></td>\n",
       "      <td>Airports</td>\n",
       "      <td></td>\n",
       "      <td></td>\n",
       "      <td>None</td>\n",
       "      <td>None</td>\n",
       "      <td>OMAL</td>\n",
       "      <td>12</td>\n",
       "      <td>9</td>\n",
       "    </tr>\n",
       "  </tbody>\n",
       "</table>\n",
       "</div>"
      ],
      "text/plain": [
       "  code       lat       lon               name           city            state  \\\n",
       "0  AAA  -17.3595  -145.494       Anaa Airport           Anaa  Tuamotu-Gambier   \n",
       "1  AAE   36.8236    7.8103  El Mellah Airport        El Tarf           Annaba   \n",
       "2  AAL   57.0952   9.85606    Aalborg Airport    Norresundby      Nordjylland   \n",
       "3  AAM     -24.8   31.5333          Mala Mala      Mala Mala                    \n",
       "4  AAN     24.25     55.75     Al Ain Airport  Ayn al Faydah        Abu Dhabi   \n",
       "\n",
       "                country     woeid                   tz phone      type email  \\\n",
       "0      French Polynesia  12512819       Pacific/Midway        Airports         \n",
       "1               Algeria  12510325       Africa/Algiers        Airports         \n",
       "2               Denmark  12512587    Europe/Copenhagen        Airports         \n",
       "3          South Africa  55921381  Africa/Johannesburg        Airports         \n",
       "4  United Arab Emirates  12523371           Asia/Dubai        Airports         \n",
       "\n",
       "                  url runway_length  elev  icao direct_flights carriers  \n",
       "0                              4921     7  NTGA              2        1  \n",
       "1                              9843    16  DABB              6        2  \n",
       "2  http://www.aal.dk/          8700    10  EKYT              7       10  \n",
       "3                              4420  1200  FAMD              1        1  \n",
       "4                              None  None  OMAL             12        9  "
      ]
     },
     "execution_count": 115,
     "metadata": {},
     "output_type": "execute_result"
    }
   ],
   "source": [
    "airports.head()"
   ]
  },
  {
   "cell_type": "code",
   "execution_count": 116,
   "metadata": {},
   "outputs": [],
   "source": [
    "air = airports.drop(['carriers','direct_flights','elev','email','phone','runway_length','tz','url','woeid'], axis=1)\n",
    "air = air[air.type == 'Airports']\n",
    "air.columns =['code', 'lat', 'lng', 'name', 'city', 'state', 'country', 'type','icao']"
   ]
  },
  {
   "cell_type": "code",
   "execution_count": 117,
   "metadata": {},
   "outputs": [
    {
     "data": {
      "text/html": [
       "<div>\n",
       "<style scoped>\n",
       "    .dataframe tbody tr th:only-of-type {\n",
       "        vertical-align: middle;\n",
       "    }\n",
       "\n",
       "    .dataframe tbody tr th {\n",
       "        vertical-align: top;\n",
       "    }\n",
       "\n",
       "    .dataframe thead th {\n",
       "        text-align: right;\n",
       "    }\n",
       "</style>\n",
       "<table border=\"1\" class=\"dataframe\">\n",
       "  <thead>\n",
       "    <tr style=\"text-align: right;\">\n",
       "      <th></th>\n",
       "      <th>code</th>\n",
       "      <th>lat</th>\n",
       "      <th>lng</th>\n",
       "      <th>name</th>\n",
       "      <th>city</th>\n",
       "      <th>state</th>\n",
       "      <th>country</th>\n",
       "      <th>type</th>\n",
       "      <th>icao</th>\n",
       "    </tr>\n",
       "  </thead>\n",
       "  <tbody>\n",
       "    <tr>\n",
       "      <th>0</th>\n",
       "      <td>AAA</td>\n",
       "      <td>-17.3595</td>\n",
       "      <td>-145.494</td>\n",
       "      <td>Anaa Airport</td>\n",
       "      <td>Anaa</td>\n",
       "      <td>Tuamotu-Gambier</td>\n",
       "      <td>French Polynesia</td>\n",
       "      <td>Airports</td>\n",
       "      <td>NTGA</td>\n",
       "    </tr>\n",
       "    <tr>\n",
       "      <th>1</th>\n",
       "      <td>AAE</td>\n",
       "      <td>36.8236</td>\n",
       "      <td>7.8103</td>\n",
       "      <td>El Mellah Airport</td>\n",
       "      <td>El Tarf</td>\n",
       "      <td>Annaba</td>\n",
       "      <td>Algeria</td>\n",
       "      <td>Airports</td>\n",
       "      <td>DABB</td>\n",
       "    </tr>\n",
       "    <tr>\n",
       "      <th>2</th>\n",
       "      <td>AAL</td>\n",
       "      <td>57.0952</td>\n",
       "      <td>9.85606</td>\n",
       "      <td>Aalborg Airport</td>\n",
       "      <td>Norresundby</td>\n",
       "      <td>Nordjylland</td>\n",
       "      <td>Denmark</td>\n",
       "      <td>Airports</td>\n",
       "      <td>EKYT</td>\n",
       "    </tr>\n",
       "    <tr>\n",
       "      <th>3</th>\n",
       "      <td>AAM</td>\n",
       "      <td>-24.8</td>\n",
       "      <td>31.5333</td>\n",
       "      <td>Mala Mala</td>\n",
       "      <td>Mala Mala</td>\n",
       "      <td></td>\n",
       "      <td>South Africa</td>\n",
       "      <td>Airports</td>\n",
       "      <td>FAMD</td>\n",
       "    </tr>\n",
       "    <tr>\n",
       "      <th>4</th>\n",
       "      <td>AAN</td>\n",
       "      <td>24.25</td>\n",
       "      <td>55.75</td>\n",
       "      <td>Al Ain Airport</td>\n",
       "      <td>Ayn al Faydah</td>\n",
       "      <td>Abu Dhabi</td>\n",
       "      <td>United Arab Emirates</td>\n",
       "      <td>Airports</td>\n",
       "      <td>OMAL</td>\n",
       "    </tr>\n",
       "  </tbody>\n",
       "</table>\n",
       "</div>"
      ],
      "text/plain": [
       "  code       lat       lng               name           city            state  \\\n",
       "0  AAA  -17.3595  -145.494       Anaa Airport           Anaa  Tuamotu-Gambier   \n",
       "1  AAE   36.8236    7.8103  El Mellah Airport        El Tarf           Annaba   \n",
       "2  AAL   57.0952   9.85606    Aalborg Airport    Norresundby      Nordjylland   \n",
       "3  AAM     -24.8   31.5333          Mala Mala      Mala Mala                    \n",
       "4  AAN     24.25     55.75     Al Ain Airport  Ayn al Faydah        Abu Dhabi   \n",
       "\n",
       "                country      type  icao  \n",
       "0      French Polynesia  Airports  NTGA  \n",
       "1               Algeria  Airports  DABB  \n",
       "2               Denmark  Airports  EKYT  \n",
       "3          South Africa  Airports  FAMD  \n",
       "4  United Arab Emirates  Airports  OMAL  "
      ]
     },
     "execution_count": 117,
     "metadata": {},
     "output_type": "execute_result"
    }
   ],
   "source": [
    "air.head()"
   ]
  },
  {
   "cell_type": "code",
   "execution_count": 118,
   "metadata": {},
   "outputs": [],
   "source": [
    "air['lat']=air['lat'].astype(float)\n",
    "air['lng']=air['lng'].astype(float)"
   ]
  },
  {
   "cell_type": "code",
   "execution_count": 119,
   "metadata": {},
   "outputs": [],
   "source": [
    "Anor_este = air[(air.lat > 0) & (air.lng > 0)].reset_index()\n",
    "Anor_oeste = air[(air.lat > 0) & (air.lng < 0)].reset_index()\n",
    "\n",
    "Asur_este = air[(air.lat < 0) & (air.lng > 0)].reset_index()\n",
    "Asur_oeste = air[(air.lat < 0) & (air.lng < 0)].reset_index()"
   ]
  },
  {
   "cell_type": "code",
   "execution_count": 120,
   "metadata": {},
   "outputs": [
    {
     "name": "stdout",
     "output_type": "stream",
     "text": [
      "1391\n",
      "1413\n",
      "450\n",
      "246\n"
     ]
    },
    {
     "data": {
      "text/plain": [
       "1"
      ]
     },
     "execution_count": 120,
     "metadata": {},
     "output_type": "execute_result"
    }
   ],
   "source": [
    "print(len(Anor_este))\n",
    "print(len(Anor_oeste))\n",
    "print(len(Asur_este))\n",
    "print(len(Asur_oeste))\n"
   ]
  },
  {
   "cell_type": "code",
   "execution_count": 74,
   "metadata": {},
   "outputs": [],
   "source": [
    "'''\n",
    "import math\n",
    "def calculate_distance(lat1, lon1, lat2, lon2):\n",
    "        '''\n",
    "        * Calculates the distance between two points given their (lat, lon) co-ordinates.\n",
    "        * It uses the Spherical Law Of Cosines (http://en.wikipedia.org/wiki/Spherical_law_of_cosines):\n",
    "        *\n",
    "        * cos(c) = cos(a) * cos(b) + sin(a) * sin(b) * cos(C)                        (1)\n",
    "        *\n",
    "        * In this case:\n",
    "        * a = lat1 in radians, b = lat2 in radians, C = (lon2 - lon1) in radians\n",
    "        * and because the latitude range is  [-π/2, π/2] instead of [0, π]\n",
    "        * and the longitude range is [-π, π] instead of [0, 2π]\n",
    "        * (1) transforms into:\n",
    "        *\n",
    "        * x = cos(c) = sin(a) * sin(b) + cos(a) * cos(b) * cos(C)\n",
    "        *\n",
    "        * Finally the distance is arccos(x)\n",
    "        '''\n",
    "\n",
    "        if ((lat1 == lat2) and (lon1 == lon2)):\n",
    "            return 0\n",
    "\n",
    "        try:\n",
    "            delta = lon2 - lon1\n",
    "            a = math.radians(lat1)\n",
    "            b = math.radians(lat2)\n",
    "            C = math.radians(delta)\n",
    "            x = math.sin(a) * math.sin(b) + math.cos(a) * math.cos(b) * math.cos(C)\n",
    "            distance = math.acos(x) # in radians\n",
    "            distance  = math.degrees(distance) # in degrees\n",
    "            distance  = distance * 60 # 60 nautical miles / lat degree\n",
    "            distance = distance * 1852 # conversion to meters\n",
    "            distance  = round(distance)\n",
    "            return distance;\n",
    "        except:\n",
    "            return 0\n",
    "            \n",
    "        '''"
   ]
  },
  {
   "cell_type": "code",
   "execution_count": null,
   "metadata": {},
   "outputs": [],
   "source": [
    "# VAMOS A INTENTAR ALGO NUEVO, PASAR LAS COORDENADASA A COORDENADAS CARTESIANAS."
   ]
  },
  {
   "cell_type": "code",
   "execution_count": 131,
   "metadata": {},
   "outputs": [],
   "source": [
    "import math\n",
    "\n",
    "def cartesian(latitude, longitude, elevation = 0):\n",
    "    # Convert to radians\n",
    "    latitude = latitude * (math.pi / 180)\n",
    "    longitude = longitude * (math.pi / 180)\n",
    "\n",
    "    R = 6371 # 6378137.0 + elevation  # relative to centre of the earth\n",
    "    X = R * math.cos(latitude) * math.cos(longitude)\n",
    "    Y = R * math.cos(latitude) * math.sin(longitude)\n",
    "    Z = R * math.sin(latitude)\n",
    "    return (X, Y, Z)\n"
   ]
  },
  {
   "cell_type": "code",
   "execution_count": 134,
   "metadata": {},
   "outputs": [
    {
     "data": {
      "text/plain": [
       "<scipy.spatial.kdtree.KDTree at 0x12069b7d0>"
      ]
     },
     "execution_count": 134,
     "metadata": {},
     "output_type": "execute_result"
    }
   ],
   "source": [
    "from scipy import spatial\n",
    "\n",
    "places = []\n",
    "for index, row in nor_este.iterrows():\n",
    "    coordinates = [row['lat'], row['lng']]\n",
    "    cartesian_coord = cartesian(*coordinates)\n",
    "    places.append(cartesian_coord)\n",
    "\n",
    "tree = spatial.KDTree(places)\n"
   ]
  },
  {
   "cell_type": "code",
   "execution_count": null,
   "metadata": {},
   "outputs": [],
   "source": [
    "def find_population(lat, lon):\n",
    "    cartesian_coord = cartesian(lat, lon)\n",
    "    closest = tree.query([cartesian_coord], p = 2)\n",
    "    index = closest[1][0]\n",
    "    return {\n",
    "        'name' : geonames.name[index],\n",
    "        'latitude' : geonames.latitude[index],\n",
    "        'longitude' : geonames.longitude[index],\n",
    "        'population' : geonames.population[index],\n",
    "        'distance' : closest[0][0]\n",
    "    }"
   ]
  },
  {
   "cell_type": "code",
   "execution_count": 127,
   "metadata": {},
   "outputs": [],
   "source": [
    "df = pd.DataFrame([{'c1':10, 'c2':100}, {'c1':11,'c2':110}, {'c1':12,'c2':120}])"
   ]
  },
  {
   "cell_type": "code",
   "execution_count": 128,
   "metadata": {},
   "outputs": [
    {
     "name": "stdout",
     "output_type": "stream",
     "text": [
      "10 100\n",
      "11 110\n",
      "12 120\n"
     ]
    }
   ],
   "source": [
    "for index, row in df.iterrows():\n",
    "    print(row['c1'], row['c2'])"
   ]
  },
  {
   "cell_type": "code",
   "execution_count": 129,
   "metadata": {},
   "outputs": [
    {
     "data": {
      "text/html": [
       "<div>\n",
       "<style scoped>\n",
       "    .dataframe tbody tr th:only-of-type {\n",
       "        vertical-align: middle;\n",
       "    }\n",
       "\n",
       "    .dataframe tbody tr th {\n",
       "        vertical-align: top;\n",
       "    }\n",
       "\n",
       "    .dataframe thead th {\n",
       "        text-align: right;\n",
       "    }\n",
       "</style>\n",
       "<table border=\"1\" class=\"dataframe\">\n",
       "  <thead>\n",
       "    <tr style=\"text-align: right;\">\n",
       "      <th></th>\n",
       "      <th>c1</th>\n",
       "      <th>c2</th>\n",
       "    </tr>\n",
       "  </thead>\n",
       "  <tbody>\n",
       "    <tr>\n",
       "      <th>0</th>\n",
       "      <td>10</td>\n",
       "      <td>100</td>\n",
       "    </tr>\n",
       "    <tr>\n",
       "      <th>1</th>\n",
       "      <td>11</td>\n",
       "      <td>110</td>\n",
       "    </tr>\n",
       "    <tr>\n",
       "      <th>2</th>\n",
       "      <td>12</td>\n",
       "      <td>120</td>\n",
       "    </tr>\n",
       "  </tbody>\n",
       "</table>\n",
       "</div>"
      ],
      "text/plain": [
       "   c1   c2\n",
       "0  10  100\n",
       "1  11  110\n",
       "2  12  120"
      ]
     },
     "execution_count": 129,
     "metadata": {},
     "output_type": "execute_result"
    }
   ],
   "source": [
    "df"
   ]
  },
  {
   "cell_type": "code",
   "execution_count": null,
   "metadata": {},
   "outputs": [],
   "source": []
  }
 ],
 "metadata": {
  "kernelspec": {
   "display_name": "Python 3",
   "language": "python",
   "name": "python3"
  },
  "language_info": {
   "codemirror_mode": {
    "name": "ipython",
    "version": 3
   },
   "file_extension": ".py",
   "mimetype": "text/x-python",
   "name": "python",
   "nbconvert_exporter": "python",
   "pygments_lexer": "ipython3",
   "version": "3.7.4"
  }
 },
 "nbformat": 4,
 "nbformat_minor": 2
}
